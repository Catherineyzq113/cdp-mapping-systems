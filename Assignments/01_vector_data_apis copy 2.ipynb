{
 "cells": [
  {
   "cell_type": "markdown",
   "metadata": {},
   "source": [
    "## Getting Started\n",
    "\n",
    "- Download MapPLUTO data from [NYC DCP](https://s-media.nyc.gov/agencies/dcp/assets/files/zip/data-tools/bytes/nyc_mappluto_24v1_1_shp.zip)\n",
    "- Unzip the file and place contents in the `Data` directory at the root of this repo\n",
    "- Make sure you have installed all requisite libraries by running `pip install -r requirements.txt` **_with your virtual environment activated_**\n",
    "\n",
    "## Goals\n",
    "\n",
    "- Load data from file\n",
    "- Explore spatial and non-spatial elements of the dataset\n",
    "- Compare tradeoffs between different methods of loading data\n",
    "- Demonstrate tradeoffs in different file formats\n"
   ]
  },
  {
   "cell_type": "code",
   "execution_count": null,
   "metadata": {},
   "outputs": [
    {
     "ename": "",
     "evalue": "",
     "output_type": "error",
     "traceback": [
      "\u001b[1;31mFailed to start the Kernel. \n",
      "\u001b[1;31mTraceback (most recent call last):\n",
      "\u001b[1;31m  File \"<frozen runpy>\", line 198, in _run_module_as_main\n",
      "\u001b[1;31m  File \"<frozen runpy>\", line 88, in _run_code\n",
      "\u001b[1;31m  File \"c:\\ProgramData\\anaconda3\\envs\\cdp\\Lib\\site-packages\\ipykernel_launcher.py\", line 18, in <module>\n",
      "\u001b[1;31m    app.launch_new_instance()\n",
      "\u001b[1;31m  File \"c:\\ProgramData\\anaconda3\\envs\\cdp\\Lib\\site-packages\\traitlets\\config\\application.py\", line 1075, in launch_instance\n",
      "\u001b[1;31m    app.start()\n",
      "\u001b[1;31m  File \"c:\\ProgramData\\anaconda3\\envs\\cdp\\Lib\\site-packages\\ipykernel\\kernelapp.py\", line 726, in start\n",
      "\u001b[1;31m    self.kernel.start()\n",
      "\u001b[1;31m  File \"c:\\ProgramData\\anaconda3\\envs\\cdp\\Lib\\site-packages\\ipykernel\\ipkernel.py\", line 240, in start\n",
      "\u001b[1;31m    super().start()\n",
      "\u001b[1;31m  File \"c:\\ProgramData\\anaconda3\\envs\\cdp\\Lib\\site-packages\\ipykernel\\kernelbase.py\", line 583, in start\n",
      "\u001b[1;31m    asyncio.run_coroutine_threadsafe(self.poll_control_queue(), control_loop.asyncio_loop)\n",
      "\u001b[1;31m  File \"c:\\ProgramData\\anaconda3\\envs\\cdp\\Lib\\asyncio\\tasks.py\", line 950, in run_coroutine_threadsafe\n",
      "\u001b[1;31m    loop.call_soon_threadsafe(callback)\n",
      "\u001b[1;31m  File \"c:\\ProgramData\\anaconda3\\envs\\cdp\\Lib\\asyncio\\base_events.py\", line 840, in call_soon_threadsafe\n",
      "\u001b[1;31m    self._check_closed()\n",
      "\u001b[1;31m  File \"c:\\ProgramData\\anaconda3\\envs\\cdp\\Lib\\asyncio\\base_events.py\", line 541, in _check_closed\n",
      "\u001b[1;31m    raise RuntimeError('Event loop is closed')\n",
      "\u001b[1;31mRuntimeError: Event loop is closed\n",
      "\u001b[1;31msys:1: RuntimeWarning: coroutine 'Kernel.poll_control_queue' was never awaited. \n",
      "\u001b[1;31mView Jupyter <a href='command:jupyter.viewOutput'>log</a> for further details."
     ]
    }
   ],
   "source": [
    "# the bare minimum\n",
    "import matplotlib.pyplot as plt\n",
    "import geopandas as gpd\n",
    "\n",
    "# more advanced\n",
    "import pyogrio as ogr\n",
    "from sklearn.cluster import KMeans\n",
    "from lonboard import Map, PolygonLayer\n",
    "from lonboard.colormap import apply_categorical_cmap, apply_continuous_cmap\n",
    "from palettable.colorbrewer.sequential import PuRd_9\n",
    "from matplotlib.colors import LogNorm\n",
    "\n",
    "import pydeck as pdk"
   ]
  },
  {
   "cell_type": "markdown",
   "metadata": {},
   "source": [
    "# load PLUTO data\n"
   ]
  },
  {
   "cell_type": "code",
   "execution_count": null,
   "metadata": {},
   "outputs": [
    {
     "ename": "",
     "evalue": "",
     "output_type": "error",
     "traceback": [
      "\u001b[1;31mFailed to start the Kernel. \n",
      "\u001b[1;31mTraceback (most recent call last):\n",
      "\u001b[1;31m  File \"<frozen runpy>\", line 198, in _run_module_as_main\n",
      "\u001b[1;31m  File \"<frozen runpy>\", line 88, in _run_code\n",
      "\u001b[1;31m  File \"c:\\ProgramData\\anaconda3\\envs\\cdp\\Lib\\site-packages\\ipykernel_launcher.py\", line 18, in <module>\n",
      "\u001b[1;31m    app.launch_new_instance()\n",
      "\u001b[1;31m  File \"c:\\ProgramData\\anaconda3\\envs\\cdp\\Lib\\site-packages\\traitlets\\config\\application.py\", line 1075, in launch_instance\n",
      "\u001b[1;31m    app.start()\n",
      "\u001b[1;31m  File \"c:\\ProgramData\\anaconda3\\envs\\cdp\\Lib\\site-packages\\ipykernel\\kernelapp.py\", line 726, in start\n",
      "\u001b[1;31m    self.kernel.start()\n",
      "\u001b[1;31m  File \"c:\\ProgramData\\anaconda3\\envs\\cdp\\Lib\\site-packages\\ipykernel\\ipkernel.py\", line 240, in start\n",
      "\u001b[1;31m    super().start()\n",
      "\u001b[1;31m  File \"c:\\ProgramData\\anaconda3\\envs\\cdp\\Lib\\site-packages\\ipykernel\\kernelbase.py\", line 583, in start\n",
      "\u001b[1;31m    asyncio.run_coroutine_threadsafe(self.poll_control_queue(), control_loop.asyncio_loop)\n",
      "\u001b[1;31m  File \"c:\\ProgramData\\anaconda3\\envs\\cdp\\Lib\\asyncio\\tasks.py\", line 950, in run_coroutine_threadsafe\n",
      "\u001b[1;31m    loop.call_soon_threadsafe(callback)\n",
      "\u001b[1;31m  File \"c:\\ProgramData\\anaconda3\\envs\\cdp\\Lib\\asyncio\\base_events.py\", line 840, in call_soon_threadsafe\n",
      "\u001b[1;31m    self._check_closed()\n",
      "\u001b[1;31m  File \"c:\\ProgramData\\anaconda3\\envs\\cdp\\Lib\\asyncio\\base_events.py\", line 541, in _check_closed\n",
      "\u001b[1;31m    raise RuntimeError('Event loop is closed')\n",
      "\u001b[1;31mRuntimeError: Event loop is closed\n",
      "\u001b[1;31msys:1: RuntimeWarning: coroutine 'Kernel.poll_control_queue' was never awaited. \n",
      "\u001b[1;31mView Jupyter <a href='command:jupyter.viewOutput'>log</a> for further details."
     ]
    }
   ],
   "source": [
    "# pluto = gpd.read_file(\"../Data/nyc_mappluto_24v1_1_shp/MapPLUTO.shp\")"
   ]
  },
  {
   "cell_type": "code",
   "execution_count": null,
   "metadata": {},
   "outputs": [
    {
     "ename": "",
     "evalue": "",
     "output_type": "error",
     "traceback": [
      "\u001b[1;31mFailed to start the Kernel. \n",
      "\u001b[1;31mTraceback (most recent call last):\n",
      "\u001b[1;31m  File \"<frozen runpy>\", line 198, in _run_module_as_main\n",
      "\u001b[1;31m  File \"<frozen runpy>\", line 88, in _run_code\n",
      "\u001b[1;31m  File \"c:\\ProgramData\\anaconda3\\envs\\cdp\\Lib\\site-packages\\ipykernel_launcher.py\", line 18, in <module>\n",
      "\u001b[1;31m    app.launch_new_instance()\n",
      "\u001b[1;31m  File \"c:\\ProgramData\\anaconda3\\envs\\cdp\\Lib\\site-packages\\traitlets\\config\\application.py\", line 1075, in launch_instance\n",
      "\u001b[1;31m    app.start()\n",
      "\u001b[1;31m  File \"c:\\ProgramData\\anaconda3\\envs\\cdp\\Lib\\site-packages\\ipykernel\\kernelapp.py\", line 726, in start\n",
      "\u001b[1;31m    self.kernel.start()\n",
      "\u001b[1;31m  File \"c:\\ProgramData\\anaconda3\\envs\\cdp\\Lib\\site-packages\\ipykernel\\ipkernel.py\", line 240, in start\n",
      "\u001b[1;31m    super().start()\n",
      "\u001b[1;31m  File \"c:\\ProgramData\\anaconda3\\envs\\cdp\\Lib\\site-packages\\ipykernel\\kernelbase.py\", line 583, in start\n",
      "\u001b[1;31m    asyncio.run_coroutine_threadsafe(self.poll_control_queue(), control_loop.asyncio_loop)\n",
      "\u001b[1;31m  File \"c:\\ProgramData\\anaconda3\\envs\\cdp\\Lib\\asyncio\\tasks.py\", line 950, in run_coroutine_threadsafe\n",
      "\u001b[1;31m    loop.call_soon_threadsafe(callback)\n",
      "\u001b[1;31m  File \"c:\\ProgramData\\anaconda3\\envs\\cdp\\Lib\\asyncio\\base_events.py\", line 840, in call_soon_threadsafe\n",
      "\u001b[1;31m    self._check_closed()\n",
      "\u001b[1;31m  File \"c:\\ProgramData\\anaconda3\\envs\\cdp\\Lib\\asyncio\\base_events.py\", line 541, in _check_closed\n",
      "\u001b[1;31m    raise RuntimeError('Event loop is closed')\n",
      "\u001b[1;31mRuntimeError: Event loop is closed\n",
      "\u001b[1;31msys:1: RuntimeWarning: coroutine 'Kernel.poll_control_queue' was never awaited. \n",
      "\u001b[1;31mView Jupyter <a href='command:jupyter.viewOutput'>log</a> for further details."
     ]
    }
   ],
   "source": [
    "pluto_ogrio = ogr.read_dataframe (r\"C:\\Users\\cathe\\Documents\\Github\\cdp-mapping-systems\\Data\\nyc_mappluto_24v1_1_shp/MapPLUTO.shp\")"
   ]
  },
  {
   "cell_type": "markdown",
   "metadata": {},
   "source": [
    "# basic exploration\n"
   ]
  },
  {
   "cell_type": "code",
   "execution_count": null,
   "metadata": {},
   "outputs": [
    {
     "ename": "",
     "evalue": "",
     "output_type": "error",
     "traceback": [
      "\u001b[1;31mFailed to start the Kernel. \n",
      "\u001b[1;31mTraceback (most recent call last):\n",
      "\u001b[1;31m  File \"<frozen runpy>\", line 198, in _run_module_as_main\n",
      "\u001b[1;31m  File \"<frozen runpy>\", line 88, in _run_code\n",
      "\u001b[1;31m  File \"c:\\ProgramData\\anaconda3\\envs\\cdp\\Lib\\site-packages\\ipykernel_launcher.py\", line 18, in <module>\n",
      "\u001b[1;31m    app.launch_new_instance()\n",
      "\u001b[1;31m  File \"c:\\ProgramData\\anaconda3\\envs\\cdp\\Lib\\site-packages\\traitlets\\config\\application.py\", line 1075, in launch_instance\n",
      "\u001b[1;31m    app.start()\n",
      "\u001b[1;31m  File \"c:\\ProgramData\\anaconda3\\envs\\cdp\\Lib\\site-packages\\ipykernel\\kernelapp.py\", line 726, in start\n",
      "\u001b[1;31m    self.kernel.start()\n",
      "\u001b[1;31m  File \"c:\\ProgramData\\anaconda3\\envs\\cdp\\Lib\\site-packages\\ipykernel\\ipkernel.py\", line 240, in start\n",
      "\u001b[1;31m    super().start()\n",
      "\u001b[1;31m  File \"c:\\ProgramData\\anaconda3\\envs\\cdp\\Lib\\site-packages\\ipykernel\\kernelbase.py\", line 583, in start\n",
      "\u001b[1;31m    asyncio.run_coroutine_threadsafe(self.poll_control_queue(), control_loop.asyncio_loop)\n",
      "\u001b[1;31m  File \"c:\\ProgramData\\anaconda3\\envs\\cdp\\Lib\\asyncio\\tasks.py\", line 950, in run_coroutine_threadsafe\n",
      "\u001b[1;31m    loop.call_soon_threadsafe(callback)\n",
      "\u001b[1;31m  File \"c:\\ProgramData\\anaconda3\\envs\\cdp\\Lib\\asyncio\\base_events.py\", line 840, in call_soon_threadsafe\n",
      "\u001b[1;31m    self._check_closed()\n",
      "\u001b[1;31m  File \"c:\\ProgramData\\anaconda3\\envs\\cdp\\Lib\\asyncio\\base_events.py\", line 541, in _check_closed\n",
      "\u001b[1;31m    raise RuntimeError('Event loop is closed')\n",
      "\u001b[1;31mRuntimeError: Event loop is closed\n",
      "\u001b[1;31msys:1: RuntimeWarning: coroutine 'Kernel.poll_control_queue' was never awaited. \n",
      "\u001b[1;31mView Jupyter <a href='command:jupyter.viewOutput'>log</a> for further details."
     ]
    }
   ],
   "source": [
    "pluto_ogrio.columns\n"
   ]
  },
  {
   "cell_type": "code",
   "execution_count": null,
   "metadata": {},
   "outputs": [
    {
     "ename": "",
     "evalue": "",
     "output_type": "error",
     "traceback": [
      "\u001b[1;31mFailed to start the Kernel. \n",
      "\u001b[1;31mTraceback (most recent call last):\n",
      "\u001b[1;31m  File \"<frozen runpy>\", line 198, in _run_module_as_main\n",
      "\u001b[1;31m  File \"<frozen runpy>\", line 88, in _run_code\n",
      "\u001b[1;31m  File \"c:\\ProgramData\\anaconda3\\envs\\cdp\\Lib\\site-packages\\ipykernel_launcher.py\", line 18, in <module>\n",
      "\u001b[1;31m    app.launch_new_instance()\n",
      "\u001b[1;31m  File \"c:\\ProgramData\\anaconda3\\envs\\cdp\\Lib\\site-packages\\traitlets\\config\\application.py\", line 1075, in launch_instance\n",
      "\u001b[1;31m    app.start()\n",
      "\u001b[1;31m  File \"c:\\ProgramData\\anaconda3\\envs\\cdp\\Lib\\site-packages\\ipykernel\\kernelapp.py\", line 726, in start\n",
      "\u001b[1;31m    self.kernel.start()\n",
      "\u001b[1;31m  File \"c:\\ProgramData\\anaconda3\\envs\\cdp\\Lib\\site-packages\\ipykernel\\ipkernel.py\", line 240, in start\n",
      "\u001b[1;31m    super().start()\n",
      "\u001b[1;31m  File \"c:\\ProgramData\\anaconda3\\envs\\cdp\\Lib\\site-packages\\ipykernel\\kernelbase.py\", line 583, in start\n",
      "\u001b[1;31m    asyncio.run_coroutine_threadsafe(self.poll_control_queue(), control_loop.asyncio_loop)\n",
      "\u001b[1;31m  File \"c:\\ProgramData\\anaconda3\\envs\\cdp\\Lib\\asyncio\\tasks.py\", line 950, in run_coroutine_threadsafe\n",
      "\u001b[1;31m    loop.call_soon_threadsafe(callback)\n",
      "\u001b[1;31m  File \"c:\\ProgramData\\anaconda3\\envs\\cdp\\Lib\\asyncio\\base_events.py\", line 840, in call_soon_threadsafe\n",
      "\u001b[1;31m    self._check_closed()\n",
      "\u001b[1;31m  File \"c:\\ProgramData\\anaconda3\\envs\\cdp\\Lib\\asyncio\\base_events.py\", line 541, in _check_closed\n",
      "\u001b[1;31m    raise RuntimeError('Event loop is closed')\n",
      "\u001b[1;31mRuntimeError: Event loop is closed\n",
      "\u001b[1;31msys:1: RuntimeWarning: coroutine 'Kernel.poll_control_queue' was never awaited. \n",
      "\u001b[1;31mView Jupyter <a href='command:jupyter.viewOutput'>log</a> for further details."
     ]
    }
   ],
   "source": [
    "pluto_ogrio.dtypes"
   ]
  },
  {
   "cell_type": "markdown",
   "metadata": {},
   "source": [
    "## categorical column\n"
   ]
  },
  {
   "cell_type": "code",
   "execution_count": null,
   "metadata": {},
   "outputs": [
    {
     "ename": "",
     "evalue": "",
     "output_type": "error",
     "traceback": [
      "\u001b[1;31mFailed to start the Kernel. \n",
      "\u001b[1;31mTraceback (most recent call last):\n",
      "\u001b[1;31m  File \"<frozen runpy>\", line 198, in _run_module_as_main\n",
      "\u001b[1;31m  File \"<frozen runpy>\", line 88, in _run_code\n",
      "\u001b[1;31m  File \"c:\\ProgramData\\anaconda3\\envs\\cdp\\Lib\\site-packages\\ipykernel_launcher.py\", line 18, in <module>\n",
      "\u001b[1;31m    app.launch_new_instance()\n",
      "\u001b[1;31m  File \"c:\\ProgramData\\anaconda3\\envs\\cdp\\Lib\\site-packages\\traitlets\\config\\application.py\", line 1075, in launch_instance\n",
      "\u001b[1;31m    app.start()\n",
      "\u001b[1;31m  File \"c:\\ProgramData\\anaconda3\\envs\\cdp\\Lib\\site-packages\\ipykernel\\kernelapp.py\", line 726, in start\n",
      "\u001b[1;31m    self.kernel.start()\n",
      "\u001b[1;31m  File \"c:\\ProgramData\\anaconda3\\envs\\cdp\\Lib\\site-packages\\ipykernel\\ipkernel.py\", line 240, in start\n",
      "\u001b[1;31m    super().start()\n",
      "\u001b[1;31m  File \"c:\\ProgramData\\anaconda3\\envs\\cdp\\Lib\\site-packages\\ipykernel\\kernelbase.py\", line 583, in start\n",
      "\u001b[1;31m    asyncio.run_coroutine_threadsafe(self.poll_control_queue(), control_loop.asyncio_loop)\n",
      "\u001b[1;31m  File \"c:\\ProgramData\\anaconda3\\envs\\cdp\\Lib\\asyncio\\tasks.py\", line 950, in run_coroutine_threadsafe\n",
      "\u001b[1;31m    loop.call_soon_threadsafe(callback)\n",
      "\u001b[1;31m  File \"c:\\ProgramData\\anaconda3\\envs\\cdp\\Lib\\asyncio\\base_events.py\", line 840, in call_soon_threadsafe\n",
      "\u001b[1;31m    self._check_closed()\n",
      "\u001b[1;31m  File \"c:\\ProgramData\\anaconda3\\envs\\cdp\\Lib\\asyncio\\base_events.py\", line 541, in _check_closed\n",
      "\u001b[1;31m    raise RuntimeError('Event loop is closed')\n",
      "\u001b[1;31mRuntimeError: Event loop is closed\n",
      "\u001b[1;31msys:1: RuntimeWarning: coroutine 'Kernel.poll_control_queue' was never awaited. \n",
      "\u001b[1;31mView Jupyter <a href='command:jupyter.viewOutput'>log</a> for further details."
     ]
    }
   ],
   "source": [
    "pluto_ogrio.LandUse.value_counts()"
   ]
  },
  {
   "cell_type": "markdown",
   "metadata": {},
   "source": [
    "🧐 What do those numbers mean? Let's look at the [data dictionary](https://s-media.nyc.gov/agencies/dcp/assets/files/pdf/data-tools/bytes/meta_mappluto.pdf)\n"
   ]
  },
  {
   "cell_type": "code",
   "execution_count": null,
   "metadata": {},
   "outputs": [
    {
     "ename": "",
     "evalue": "",
     "output_type": "error",
     "traceback": [
      "\u001b[1;31mFailed to start the Kernel. \n",
      "\u001b[1;31mTraceback (most recent call last):\n",
      "\u001b[1;31m  File \"<frozen runpy>\", line 198, in _run_module_as_main\n",
      "\u001b[1;31m  File \"<frozen runpy>\", line 88, in _run_code\n",
      "\u001b[1;31m  File \"c:\\ProgramData\\anaconda3\\envs\\cdp\\Lib\\site-packages\\ipykernel_launcher.py\", line 18, in <module>\n",
      "\u001b[1;31m    app.launch_new_instance()\n",
      "\u001b[1;31m  File \"c:\\ProgramData\\anaconda3\\envs\\cdp\\Lib\\site-packages\\traitlets\\config\\application.py\", line 1075, in launch_instance\n",
      "\u001b[1;31m    app.start()\n",
      "\u001b[1;31m  File \"c:\\ProgramData\\anaconda3\\envs\\cdp\\Lib\\site-packages\\ipykernel\\kernelapp.py\", line 726, in start\n",
      "\u001b[1;31m    self.kernel.start()\n",
      "\u001b[1;31m  File \"c:\\ProgramData\\anaconda3\\envs\\cdp\\Lib\\site-packages\\ipykernel\\ipkernel.py\", line 240, in start\n",
      "\u001b[1;31m    super().start()\n",
      "\u001b[1;31m  File \"c:\\ProgramData\\anaconda3\\envs\\cdp\\Lib\\site-packages\\ipykernel\\kernelbase.py\", line 583, in start\n",
      "\u001b[1;31m    asyncio.run_coroutine_threadsafe(self.poll_control_queue(), control_loop.asyncio_loop)\n",
      "\u001b[1;31m  File \"c:\\ProgramData\\anaconda3\\envs\\cdp\\Lib\\asyncio\\tasks.py\", line 950, in run_coroutine_threadsafe\n",
      "\u001b[1;31m    loop.call_soon_threadsafe(callback)\n",
      "\u001b[1;31m  File \"c:\\ProgramData\\anaconda3\\envs\\cdp\\Lib\\asyncio\\base_events.py\", line 840, in call_soon_threadsafe\n",
      "\u001b[1;31m    self._check_closed()\n",
      "\u001b[1;31m  File \"c:\\ProgramData\\anaconda3\\envs\\cdp\\Lib\\asyncio\\base_events.py\", line 541, in _check_closed\n",
      "\u001b[1;31m    raise RuntimeError('Event loop is closed')\n",
      "\u001b[1;31mRuntimeError: Event loop is closed\n",
      "\u001b[1;31msys:1: RuntimeWarning: coroutine 'Kernel.poll_control_queue' was never awaited. \n",
      "\u001b[1;31mView Jupyter <a href='command:jupyter.viewOutput'>log</a> for further details."
     ]
    }
   ],
   "source": [
    "# now we can remap the numbers into something more meaningful\n",
    "\n",
    "land_use_codes = {\n",
    "    \"01\": \"One & Two Family Buildings\",\n",
    "    \"02\": \"Multi-Family Walk-Up Buildings\",\n",
    "    \"03\": \"Multi-Family Elevator Buildings\",\n",
    "    \"04\": \"Mixed Residential & Commercial Buildings\",\n",
    "    \"05\": \"Commercial & Office Buildings\",\n",
    "    \"06\": \"Industrial & Manufacturing\",\n",
    "    \"07\": \"Transportation & Utility\",\n",
    "    \"08\": \"Public Facilities & Institutions\",\n",
    "    \"09\": \"Open Space & Outdoor Recreation\",\n",
    "    \"10\": \"Parking Facilities\",\n",
    "    \"11\": \"Vacant Land\",\n",
    "}"
   ]
  },
  {
   "cell_type": "code",
   "execution_count": null,
   "metadata": {},
   "outputs": [
    {
     "ename": "",
     "evalue": "",
     "output_type": "error",
     "traceback": [
      "\u001b[1;31mFailed to start the Kernel. \n",
      "\u001b[1;31mTraceback (most recent call last):\n",
      "\u001b[1;31m  File \"<frozen runpy>\", line 198, in _run_module_as_main\n",
      "\u001b[1;31m  File \"<frozen runpy>\", line 88, in _run_code\n",
      "\u001b[1;31m  File \"c:\\ProgramData\\anaconda3\\envs\\cdp\\Lib\\site-packages\\ipykernel_launcher.py\", line 18, in <module>\n",
      "\u001b[1;31m    app.launch_new_instance()\n",
      "\u001b[1;31m  File \"c:\\ProgramData\\anaconda3\\envs\\cdp\\Lib\\site-packages\\traitlets\\config\\application.py\", line 1075, in launch_instance\n",
      "\u001b[1;31m    app.start()\n",
      "\u001b[1;31m  File \"c:\\ProgramData\\anaconda3\\envs\\cdp\\Lib\\site-packages\\ipykernel\\kernelapp.py\", line 726, in start\n",
      "\u001b[1;31m    self.kernel.start()\n",
      "\u001b[1;31m  File \"c:\\ProgramData\\anaconda3\\envs\\cdp\\Lib\\site-packages\\ipykernel\\ipkernel.py\", line 240, in start\n",
      "\u001b[1;31m    super().start()\n",
      "\u001b[1;31m  File \"c:\\ProgramData\\anaconda3\\envs\\cdp\\Lib\\site-packages\\ipykernel\\kernelbase.py\", line 583, in start\n",
      "\u001b[1;31m    asyncio.run_coroutine_threadsafe(self.poll_control_queue(), control_loop.asyncio_loop)\n",
      "\u001b[1;31m  File \"c:\\ProgramData\\anaconda3\\envs\\cdp\\Lib\\asyncio\\tasks.py\", line 950, in run_coroutine_threadsafe\n",
      "\u001b[1;31m    loop.call_soon_threadsafe(callback)\n",
      "\u001b[1;31m  File \"c:\\ProgramData\\anaconda3\\envs\\cdp\\Lib\\asyncio\\base_events.py\", line 840, in call_soon_threadsafe\n",
      "\u001b[1;31m    self._check_closed()\n",
      "\u001b[1;31m  File \"c:\\ProgramData\\anaconda3\\envs\\cdp\\Lib\\asyncio\\base_events.py\", line 541, in _check_closed\n",
      "\u001b[1;31m    raise RuntimeError('Event loop is closed')\n",
      "\u001b[1;31mRuntimeError: Event loop is closed\n",
      "\u001b[1;31msys:1: RuntimeWarning: coroutine 'Kernel.poll_control_queue' was never awaited. \n",
      "\u001b[1;31mView Jupyter <a href='command:jupyter.viewOutput'>log</a> for further details."
     ]
    }
   ],
   "source": [
    "pluto_ogrio[\"LandUse\"] = pluto_ogrio.LandUse.map(land_use_codes)"
   ]
  },
  {
   "cell_type": "markdown",
   "metadata": {},
   "source": [
    "## Your turn:\n",
    "\n",
    "- How many lots of each land use type are there?\n",
    "  - Use `groupby` to determine the number of lots of each land use type\n",
    "- What is the lot area of each land use type?\n",
    "  - Use `groupby` to make a bar chart that shows the average lot area of each land use type\n",
    "- Can you find the total number of lots that contain `Commercial & Office Buildings` in the Bronx?\n",
    "  - use groupby on multiple columns to achieve this\n",
    "- Can you find the share of each land use type in each borough?\n"
   ]
  },
  {
   "cell_type": "code",
   "execution_count": null,
   "metadata": {},
   "outputs": [
    {
     "ename": "",
     "evalue": "",
     "output_type": "error",
     "traceback": [
      "\u001b[1;31mFailed to start the Kernel. \n",
      "\u001b[1;31mTraceback (most recent call last):\n",
      "\u001b[1;31m  File \"<frozen runpy>\", line 198, in _run_module_as_main\n",
      "\u001b[1;31m  File \"<frozen runpy>\", line 88, in _run_code\n",
      "\u001b[1;31m  File \"c:\\ProgramData\\anaconda3\\envs\\cdp\\Lib\\site-packages\\ipykernel_launcher.py\", line 18, in <module>\n",
      "\u001b[1;31m    app.launch_new_instance()\n",
      "\u001b[1;31m  File \"c:\\ProgramData\\anaconda3\\envs\\cdp\\Lib\\site-packages\\traitlets\\config\\application.py\", line 1075, in launch_instance\n",
      "\u001b[1;31m    app.start()\n",
      "\u001b[1;31m  File \"c:\\ProgramData\\anaconda3\\envs\\cdp\\Lib\\site-packages\\ipykernel\\kernelapp.py\", line 726, in start\n",
      "\u001b[1;31m    self.kernel.start()\n",
      "\u001b[1;31m  File \"c:\\ProgramData\\anaconda3\\envs\\cdp\\Lib\\site-packages\\ipykernel\\ipkernel.py\", line 240, in start\n",
      "\u001b[1;31m    super().start()\n",
      "\u001b[1;31m  File \"c:\\ProgramData\\anaconda3\\envs\\cdp\\Lib\\site-packages\\ipykernel\\kernelbase.py\", line 583, in start\n",
      "\u001b[1;31m    asyncio.run_coroutine_threadsafe(self.poll_control_queue(), control_loop.asyncio_loop)\n",
      "\u001b[1;31m  File \"c:\\ProgramData\\anaconda3\\envs\\cdp\\Lib\\asyncio\\tasks.py\", line 950, in run_coroutine_threadsafe\n",
      "\u001b[1;31m    loop.call_soon_threadsafe(callback)\n",
      "\u001b[1;31m  File \"c:\\ProgramData\\anaconda3\\envs\\cdp\\Lib\\asyncio\\base_events.py\", line 840, in call_soon_threadsafe\n",
      "\u001b[1;31m    self._check_closed()\n",
      "\u001b[1;31m  File \"c:\\ProgramData\\anaconda3\\envs\\cdp\\Lib\\asyncio\\base_events.py\", line 541, in _check_closed\n",
      "\u001b[1;31m    raise RuntimeError('Event loop is closed')\n",
      "\u001b[1;31mRuntimeError: Event loop is closed\n",
      "\u001b[1;31msys:1: RuntimeWarning: coroutine 'Kernel.poll_control_queue' was never awaited. \n",
      "\u001b[1;31mView Jupyter <a href='command:jupyter.viewOutput'>log</a> for further details."
     ]
    }
   ],
   "source": [
    "pluto_ogrio.groupby([\"LandUse\", \"Borough\"])\n"
   ]
  },
  {
   "cell_type": "markdown",
   "metadata": {},
   "source": [
    "## Okay, now let's look at lot and building area\n"
   ]
  },
  {
   "cell_type": "code",
   "execution_count": null,
   "metadata": {},
   "outputs": [
    {
     "ename": "",
     "evalue": "",
     "output_type": "error",
     "traceback": [
      "\u001b[1;31mFailed to start the Kernel. \n",
      "\u001b[1;31mTraceback (most recent call last):\n",
      "\u001b[1;31m  File \"<frozen runpy>\", line 198, in _run_module_as_main\n",
      "\u001b[1;31m  File \"<frozen runpy>\", line 88, in _run_code\n",
      "\u001b[1;31m  File \"c:\\ProgramData\\anaconda3\\envs\\cdp\\Lib\\site-packages\\ipykernel_launcher.py\", line 18, in <module>\n",
      "\u001b[1;31m    app.launch_new_instance()\n",
      "\u001b[1;31m  File \"c:\\ProgramData\\anaconda3\\envs\\cdp\\Lib\\site-packages\\traitlets\\config\\application.py\", line 1075, in launch_instance\n",
      "\u001b[1;31m    app.start()\n",
      "\u001b[1;31m  File \"c:\\ProgramData\\anaconda3\\envs\\cdp\\Lib\\site-packages\\ipykernel\\kernelapp.py\", line 726, in start\n",
      "\u001b[1;31m    self.kernel.start()\n",
      "\u001b[1;31m  File \"c:\\ProgramData\\anaconda3\\envs\\cdp\\Lib\\site-packages\\ipykernel\\ipkernel.py\", line 240, in start\n",
      "\u001b[1;31m    super().start()\n",
      "\u001b[1;31m  File \"c:\\ProgramData\\anaconda3\\envs\\cdp\\Lib\\site-packages\\ipykernel\\kernelbase.py\", line 583, in start\n",
      "\u001b[1;31m    asyncio.run_coroutine_threadsafe(self.poll_control_queue(), control_loop.asyncio_loop)\n",
      "\u001b[1;31m  File \"c:\\ProgramData\\anaconda3\\envs\\cdp\\Lib\\asyncio\\tasks.py\", line 950, in run_coroutine_threadsafe\n",
      "\u001b[1;31m    loop.call_soon_threadsafe(callback)\n",
      "\u001b[1;31m  File \"c:\\ProgramData\\anaconda3\\envs\\cdp\\Lib\\asyncio\\base_events.py\", line 840, in call_soon_threadsafe\n",
      "\u001b[1;31m    self._check_closed()\n",
      "\u001b[1;31m  File \"c:\\ProgramData\\anaconda3\\envs\\cdp\\Lib\\asyncio\\base_events.py\", line 541, in _check_closed\n",
      "\u001b[1;31m    raise RuntimeError('Event loop is closed')\n",
      "\u001b[1;31mRuntimeError: Event loop is closed\n",
      "\u001b[1;31msys:1: RuntimeWarning: coroutine 'Kernel.poll_control_queue' was never awaited. \n",
      "\u001b[1;31mView Jupyter <a href='command:jupyter.viewOutput'>log</a> for further details."
     ]
    }
   ],
   "source": [
    "pluto_ogrio.groupby(\"LandUse\").LotArea.sum().sort_values(ascending=False).plot.bar()\n",
    "plt.title(\"Total lot area by land use type\")"
   ]
  },
  {
   "cell_type": "code",
   "execution_count": null,
   "metadata": {},
   "outputs": [
    {
     "ename": "",
     "evalue": "",
     "output_type": "error",
     "traceback": [
      "\u001b[1;31mFailed to start the Kernel. \n",
      "\u001b[1;31mTraceback (most recent call last):\n",
      "\u001b[1;31m  File \"<frozen runpy>\", line 198, in _run_module_as_main\n",
      "\u001b[1;31m  File \"<frozen runpy>\", line 88, in _run_code\n",
      "\u001b[1;31m  File \"c:\\ProgramData\\anaconda3\\envs\\cdp\\Lib\\site-packages\\ipykernel_launcher.py\", line 18, in <module>\n",
      "\u001b[1;31m    app.launch_new_instance()\n",
      "\u001b[1;31m  File \"c:\\ProgramData\\anaconda3\\envs\\cdp\\Lib\\site-packages\\traitlets\\config\\application.py\", line 1075, in launch_instance\n",
      "\u001b[1;31m    app.start()\n",
      "\u001b[1;31m  File \"c:\\ProgramData\\anaconda3\\envs\\cdp\\Lib\\site-packages\\ipykernel\\kernelapp.py\", line 726, in start\n",
      "\u001b[1;31m    self.kernel.start()\n",
      "\u001b[1;31m  File \"c:\\ProgramData\\anaconda3\\envs\\cdp\\Lib\\site-packages\\ipykernel\\ipkernel.py\", line 240, in start\n",
      "\u001b[1;31m    super().start()\n",
      "\u001b[1;31m  File \"c:\\ProgramData\\anaconda3\\envs\\cdp\\Lib\\site-packages\\ipykernel\\kernelbase.py\", line 583, in start\n",
      "\u001b[1;31m    asyncio.run_coroutine_threadsafe(self.poll_control_queue(), control_loop.asyncio_loop)\n",
      "\u001b[1;31m  File \"c:\\ProgramData\\anaconda3\\envs\\cdp\\Lib\\asyncio\\tasks.py\", line 950, in run_coroutine_threadsafe\n",
      "\u001b[1;31m    loop.call_soon_threadsafe(callback)\n",
      "\u001b[1;31m  File \"c:\\ProgramData\\anaconda3\\envs\\cdp\\Lib\\asyncio\\base_events.py\", line 840, in call_soon_threadsafe\n",
      "\u001b[1;31m    self._check_closed()\n",
      "\u001b[1;31m  File \"c:\\ProgramData\\anaconda3\\envs\\cdp\\Lib\\asyncio\\base_events.py\", line 541, in _check_closed\n",
      "\u001b[1;31m    raise RuntimeError('Event loop is closed')\n",
      "\u001b[1;31mRuntimeError: Event loop is closed\n",
      "\u001b[1;31msys:1: RuntimeWarning: coroutine 'Kernel.poll_control_queue' was never awaited. \n",
      "\u001b[1;31mView Jupyter <a href='command:jupyter.viewOutput'>log</a> for further details."
     ]
    }
   ],
   "source": [
    "# now the same but for building area\n",
    "pluto_ogrio.groupby(\"LandUse\").BldgArea.sum().sort_values(ascending=False).plot.bar()\n",
    "plt.title(\"Total building area by land use type\")"
   ]
  },
  {
   "cell_type": "code",
   "execution_count": null,
   "metadata": {},
   "outputs": [
    {
     "ename": "",
     "evalue": "",
     "output_type": "error",
     "traceback": [
      "\u001b[1;31mFailed to start the Kernel. \n",
      "\u001b[1;31mTraceback (most recent call last):\n",
      "\u001b[1;31m  File \"<frozen runpy>\", line 198, in _run_module_as_main\n",
      "\u001b[1;31m  File \"<frozen runpy>\", line 88, in _run_code\n",
      "\u001b[1;31m  File \"c:\\ProgramData\\anaconda3\\envs\\cdp\\Lib\\site-packages\\ipykernel_launcher.py\", line 18, in <module>\n",
      "\u001b[1;31m    app.launch_new_instance()\n",
      "\u001b[1;31m  File \"c:\\ProgramData\\anaconda3\\envs\\cdp\\Lib\\site-packages\\traitlets\\config\\application.py\", line 1075, in launch_instance\n",
      "\u001b[1;31m    app.start()\n",
      "\u001b[1;31m  File \"c:\\ProgramData\\anaconda3\\envs\\cdp\\Lib\\site-packages\\ipykernel\\kernelapp.py\", line 726, in start\n",
      "\u001b[1;31m    self.kernel.start()\n",
      "\u001b[1;31m  File \"c:\\ProgramData\\anaconda3\\envs\\cdp\\Lib\\site-packages\\ipykernel\\ipkernel.py\", line 240, in start\n",
      "\u001b[1;31m    super().start()\n",
      "\u001b[1;31m  File \"c:\\ProgramData\\anaconda3\\envs\\cdp\\Lib\\site-packages\\ipykernel\\kernelbase.py\", line 583, in start\n",
      "\u001b[1;31m    asyncio.run_coroutine_threadsafe(self.poll_control_queue(), control_loop.asyncio_loop)\n",
      "\u001b[1;31m  File \"c:\\ProgramData\\anaconda3\\envs\\cdp\\Lib\\asyncio\\tasks.py\", line 950, in run_coroutine_threadsafe\n",
      "\u001b[1;31m    loop.call_soon_threadsafe(callback)\n",
      "\u001b[1;31m  File \"c:\\ProgramData\\anaconda3\\envs\\cdp\\Lib\\asyncio\\base_events.py\", line 840, in call_soon_threadsafe\n",
      "\u001b[1;31m    self._check_closed()\n",
      "\u001b[1;31m  File \"c:\\ProgramData\\anaconda3\\envs\\cdp\\Lib\\asyncio\\base_events.py\", line 541, in _check_closed\n",
      "\u001b[1;31m    raise RuntimeError('Event loop is closed')\n",
      "\u001b[1;31mRuntimeError: Event loop is closed\n",
      "\u001b[1;31msys:1: RuntimeWarning: coroutine 'Kernel.poll_control_queue' was never awaited. \n",
      "\u001b[1;31mView Jupyter <a href='command:jupyter.viewOutput'>log</a> for further details."
     ]
    }
   ],
   "source": [
    "# plot both lot and building area on the same plot with a secondary y-axis\n",
    "fig, ax = plt.subplots()\n",
    "by_lot_area = pluto_ogrio.groupby(\"LandUse\").LotArea.sum().sort_values(ascending=False)\n",
    "\n",
    "by_lot_area.plot.bar(ax=ax, color=\"orange\")\n",
    "\n",
    "# get order to apply below\n",
    "order = {v: i for i, v in enumerate(by_lot_area.index)}\n",
    "\n",
    "ax.set_ylabel(\"Lot Area\")\n",
    "ax.set_xlabel(\"Land Use Type\")\n",
    "\n",
    "ax2 = ax.twinx()\n",
    "pluto_ogrio.groupby(\"LandUse\").BldgArea.sum().reindex(by_lot_area.index).plot.bar(\n",
    "    ax=ax2, edgecolor=\"black\", color=\"none\"\n",
    ")\n",
    "ax2.set_ylabel(\"Building Area\")\n",
    "\n",
    "plt.title(\"Total lot and building area by land use type\")\n",
    "\n",
    "# add legends\n",
    "ax.legend([\"Lot Area\"], loc=\"upper left\")\n",
    "ax2.legend([\"Building Area\"], loc=\"upper right\")"
   ]
  },
  {
   "cell_type": "markdown",
   "metadata": {},
   "source": [
    "## numeric column\n"
   ]
  },
  {
   "cell_type": "code",
   "execution_count": null,
   "metadata": {},
   "outputs": [
    {
     "ename": "",
     "evalue": "",
     "output_type": "error",
     "traceback": [
      "\u001b[1;31mFailed to start the Kernel. \n",
      "\u001b[1;31mTraceback (most recent call last):\n",
      "\u001b[1;31m  File \"<frozen runpy>\", line 198, in _run_module_as_main\n",
      "\u001b[1;31m  File \"<frozen runpy>\", line 88, in _run_code\n",
      "\u001b[1;31m  File \"c:\\ProgramData\\anaconda3\\envs\\cdp\\Lib\\site-packages\\ipykernel_launcher.py\", line 18, in <module>\n",
      "\u001b[1;31m    app.launch_new_instance()\n",
      "\u001b[1;31m  File \"c:\\ProgramData\\anaconda3\\envs\\cdp\\Lib\\site-packages\\traitlets\\config\\application.py\", line 1075, in launch_instance\n",
      "\u001b[1;31m    app.start()\n",
      "\u001b[1;31m  File \"c:\\ProgramData\\anaconda3\\envs\\cdp\\Lib\\site-packages\\ipykernel\\kernelapp.py\", line 726, in start\n",
      "\u001b[1;31m    self.kernel.start()\n",
      "\u001b[1;31m  File \"c:\\ProgramData\\anaconda3\\envs\\cdp\\Lib\\site-packages\\ipykernel\\ipkernel.py\", line 240, in start\n",
      "\u001b[1;31m    super().start()\n",
      "\u001b[1;31m  File \"c:\\ProgramData\\anaconda3\\envs\\cdp\\Lib\\site-packages\\ipykernel\\kernelbase.py\", line 583, in start\n",
      "\u001b[1;31m    asyncio.run_coroutine_threadsafe(self.poll_control_queue(), control_loop.asyncio_loop)\n",
      "\u001b[1;31m  File \"c:\\ProgramData\\anaconda3\\envs\\cdp\\Lib\\asyncio\\tasks.py\", line 950, in run_coroutine_threadsafe\n",
      "\u001b[1;31m    loop.call_soon_threadsafe(callback)\n",
      "\u001b[1;31m  File \"c:\\ProgramData\\anaconda3\\envs\\cdp\\Lib\\asyncio\\base_events.py\", line 840, in call_soon_threadsafe\n",
      "\u001b[1;31m    self._check_closed()\n",
      "\u001b[1;31m  File \"c:\\ProgramData\\anaconda3\\envs\\cdp\\Lib\\asyncio\\base_events.py\", line 541, in _check_closed\n",
      "\u001b[1;31m    raise RuntimeError('Event loop is closed')\n",
      "\u001b[1;31mRuntimeError: Event loop is closed\n",
      "\u001b[1;31msys:1: RuntimeWarning: coroutine 'Kernel.poll_control_queue' was never awaited. \n",
      "\u001b[1;31mView Jupyter <a href='command:jupyter.viewOutput'>log</a> for further details."
     ]
    }
   ],
   "source": [
    "pluto_ogrio.NumFloors.unique()"
   ]
  },
  {
   "cell_type": "code",
   "execution_count": null,
   "metadata": {},
   "outputs": [
    {
     "ename": "",
     "evalue": "",
     "output_type": "error",
     "traceback": [
      "\u001b[1;31mFailed to start the Kernel. \n",
      "\u001b[1;31mTraceback (most recent call last):\n",
      "\u001b[1;31m  File \"<frozen runpy>\", line 198, in _run_module_as_main\n",
      "\u001b[1;31m  File \"<frozen runpy>\", line 88, in _run_code\n",
      "\u001b[1;31m  File \"c:\\ProgramData\\anaconda3\\envs\\cdp\\Lib\\site-packages\\ipykernel_launcher.py\", line 18, in <module>\n",
      "\u001b[1;31m    app.launch_new_instance()\n",
      "\u001b[1;31m  File \"c:\\ProgramData\\anaconda3\\envs\\cdp\\Lib\\site-packages\\traitlets\\config\\application.py\", line 1075, in launch_instance\n",
      "\u001b[1;31m    app.start()\n",
      "\u001b[1;31m  File \"c:\\ProgramData\\anaconda3\\envs\\cdp\\Lib\\site-packages\\ipykernel\\kernelapp.py\", line 726, in start\n",
      "\u001b[1;31m    self.kernel.start()\n",
      "\u001b[1;31m  File \"c:\\ProgramData\\anaconda3\\envs\\cdp\\Lib\\site-packages\\ipykernel\\ipkernel.py\", line 240, in start\n",
      "\u001b[1;31m    super().start()\n",
      "\u001b[1;31m  File \"c:\\ProgramData\\anaconda3\\envs\\cdp\\Lib\\site-packages\\ipykernel\\kernelbase.py\", line 583, in start\n",
      "\u001b[1;31m    asyncio.run_coroutine_threadsafe(self.poll_control_queue(), control_loop.asyncio_loop)\n",
      "\u001b[1;31m  File \"c:\\ProgramData\\anaconda3\\envs\\cdp\\Lib\\asyncio\\tasks.py\", line 950, in run_coroutine_threadsafe\n",
      "\u001b[1;31m    loop.call_soon_threadsafe(callback)\n",
      "\u001b[1;31m  File \"c:\\ProgramData\\anaconda3\\envs\\cdp\\Lib\\asyncio\\base_events.py\", line 840, in call_soon_threadsafe\n",
      "\u001b[1;31m    self._check_closed()\n",
      "\u001b[1;31m  File \"c:\\ProgramData\\anaconda3\\envs\\cdp\\Lib\\asyncio\\base_events.py\", line 541, in _check_closed\n",
      "\u001b[1;31m    raise RuntimeError('Event loop is closed')\n",
      "\u001b[1;31mRuntimeError: Event loop is closed\n",
      "\u001b[1;31msys:1: RuntimeWarning: coroutine 'Kernel.poll_control_queue' was never awaited. \n",
      "\u001b[1;31mView Jupyter <a href='command:jupyter.viewOutput'>log</a> for further details."
     ]
    }
   ],
   "source": [
    "pluto_ogrio[\"NumFloors\"].describe()"
   ]
  },
  {
   "cell_type": "code",
   "execution_count": null,
   "metadata": {},
   "outputs": [
    {
     "ename": "",
     "evalue": "",
     "output_type": "error",
     "traceback": [
      "\u001b[1;31mFailed to start the Kernel. \n",
      "\u001b[1;31mTraceback (most recent call last):\n",
      "\u001b[1;31m  File \"<frozen runpy>\", line 198, in _run_module_as_main\n",
      "\u001b[1;31m  File \"<frozen runpy>\", line 88, in _run_code\n",
      "\u001b[1;31m  File \"c:\\ProgramData\\anaconda3\\envs\\cdp\\Lib\\site-packages\\ipykernel_launcher.py\", line 18, in <module>\n",
      "\u001b[1;31m    app.launch_new_instance()\n",
      "\u001b[1;31m  File \"c:\\ProgramData\\anaconda3\\envs\\cdp\\Lib\\site-packages\\traitlets\\config\\application.py\", line 1075, in launch_instance\n",
      "\u001b[1;31m    app.start()\n",
      "\u001b[1;31m  File \"c:\\ProgramData\\anaconda3\\envs\\cdp\\Lib\\site-packages\\ipykernel\\kernelapp.py\", line 726, in start\n",
      "\u001b[1;31m    self.kernel.start()\n",
      "\u001b[1;31m  File \"c:\\ProgramData\\anaconda3\\envs\\cdp\\Lib\\site-packages\\ipykernel\\ipkernel.py\", line 240, in start\n",
      "\u001b[1;31m    super().start()\n",
      "\u001b[1;31m  File \"c:\\ProgramData\\anaconda3\\envs\\cdp\\Lib\\site-packages\\ipykernel\\kernelbase.py\", line 583, in start\n",
      "\u001b[1;31m    asyncio.run_coroutine_threadsafe(self.poll_control_queue(), control_loop.asyncio_loop)\n",
      "\u001b[1;31m  File \"c:\\ProgramData\\anaconda3\\envs\\cdp\\Lib\\asyncio\\tasks.py\", line 950, in run_coroutine_threadsafe\n",
      "\u001b[1;31m    loop.call_soon_threadsafe(callback)\n",
      "\u001b[1;31m  File \"c:\\ProgramData\\anaconda3\\envs\\cdp\\Lib\\asyncio\\base_events.py\", line 840, in call_soon_threadsafe\n",
      "\u001b[1;31m    self._check_closed()\n",
      "\u001b[1;31m  File \"c:\\ProgramData\\anaconda3\\envs\\cdp\\Lib\\asyncio\\base_events.py\", line 541, in _check_closed\n",
      "\u001b[1;31m    raise RuntimeError('Event loop is closed')\n",
      "\u001b[1;31mRuntimeError: Event loop is closed\n",
      "\u001b[1;31msys:1: RuntimeWarning: coroutine 'Kernel.poll_control_queue' was never awaited. \n",
      "\u001b[1;31mView Jupyter <a href='command:jupyter.viewOutput'>log</a> for further details."
     ]
    }
   ],
   "source": [
    "pluto_ogrio[\"NumFloors\"].plot.hist(bins=50)"
   ]
  },
  {
   "cell_type": "markdown",
   "metadata": {},
   "source": [
    "## Your turn:\n",
    "\n",
    "- make a histogram for each borough like above\n",
    "- then, choose another chart type to visualize the distribution of lot area for each borough. See [here](https://matplotlib.org/stable/plot_types/index.html) for some built in options in matplotlib, or here for [seaborn](https://seaborn.pydata.org/tutorial/distributions.html)\n"
   ]
  },
  {
   "cell_type": "code",
   "execution_count": null,
   "metadata": {},
   "outputs": [
    {
     "ename": "",
     "evalue": "",
     "output_type": "error",
     "traceback": [
      "\u001b[1;31mFailed to start the Kernel. \n",
      "\u001b[1;31mTraceback (most recent call last):\n",
      "\u001b[1;31m  File \"<frozen runpy>\", line 198, in _run_module_as_main\n",
      "\u001b[1;31m  File \"<frozen runpy>\", line 88, in _run_code\n",
      "\u001b[1;31m  File \"c:\\ProgramData\\anaconda3\\envs\\cdp\\Lib\\site-packages\\ipykernel_launcher.py\", line 18, in <module>\n",
      "\u001b[1;31m    app.launch_new_instance()\n",
      "\u001b[1;31m  File \"c:\\ProgramData\\anaconda3\\envs\\cdp\\Lib\\site-packages\\traitlets\\config\\application.py\", line 1075, in launch_instance\n",
      "\u001b[1;31m    app.start()\n",
      "\u001b[1;31m  File \"c:\\ProgramData\\anaconda3\\envs\\cdp\\Lib\\site-packages\\ipykernel\\kernelapp.py\", line 726, in start\n",
      "\u001b[1;31m    self.kernel.start()\n",
      "\u001b[1;31m  File \"c:\\ProgramData\\anaconda3\\envs\\cdp\\Lib\\site-packages\\ipykernel\\ipkernel.py\", line 240, in start\n",
      "\u001b[1;31m    super().start()\n",
      "\u001b[1;31m  File \"c:\\ProgramData\\anaconda3\\envs\\cdp\\Lib\\site-packages\\ipykernel\\kernelbase.py\", line 583, in start\n",
      "\u001b[1;31m    asyncio.run_coroutine_threadsafe(self.poll_control_queue(), control_loop.asyncio_loop)\n",
      "\u001b[1;31m  File \"c:\\ProgramData\\anaconda3\\envs\\cdp\\Lib\\asyncio\\tasks.py\", line 950, in run_coroutine_threadsafe\n",
      "\u001b[1;31m    loop.call_soon_threadsafe(callback)\n",
      "\u001b[1;31m  File \"c:\\ProgramData\\anaconda3\\envs\\cdp\\Lib\\asyncio\\base_events.py\", line 840, in call_soon_threadsafe\n",
      "\u001b[1;31m    self._check_closed()\n",
      "\u001b[1;31m  File \"c:\\ProgramData\\anaconda3\\envs\\cdp\\Lib\\asyncio\\base_events.py\", line 541, in _check_closed\n",
      "\u001b[1;31m    raise RuntimeError('Event loop is closed')\n",
      "\u001b[1;31mRuntimeError: Event loop is closed\n",
      "\u001b[1;31msys:1: RuntimeWarning: coroutine 'Kernel.poll_control_queue' was never awaited. \n",
      "\u001b[1;31mView Jupyter <a href='command:jupyter.viewOutput'>log</a> for further details."
     ]
    }
   ],
   "source": []
  },
  {
   "cell_type": "markdown",
   "metadata": {},
   "source": [
    "## Ok, now let's make a boxplot to see how wide the range is within each boro's data\n"
   ]
  },
  {
   "cell_type": "code",
   "execution_count": null,
   "metadata": {},
   "outputs": [
    {
     "ename": "",
     "evalue": "",
     "output_type": "error",
     "traceback": [
      "\u001b[1;31mFailed to start the Kernel. \n",
      "\u001b[1;31mTraceback (most recent call last):\n",
      "\u001b[1;31m  File \"<frozen runpy>\", line 198, in _run_module_as_main\n",
      "\u001b[1;31m  File \"<frozen runpy>\", line 88, in _run_code\n",
      "\u001b[1;31m  File \"c:\\ProgramData\\anaconda3\\envs\\cdp\\Lib\\site-packages\\ipykernel_launcher.py\", line 18, in <module>\n",
      "\u001b[1;31m    app.launch_new_instance()\n",
      "\u001b[1;31m  File \"c:\\ProgramData\\anaconda3\\envs\\cdp\\Lib\\site-packages\\traitlets\\config\\application.py\", line 1075, in launch_instance\n",
      "\u001b[1;31m    app.start()\n",
      "\u001b[1;31m  File \"c:\\ProgramData\\anaconda3\\envs\\cdp\\Lib\\site-packages\\ipykernel\\kernelapp.py\", line 726, in start\n",
      "\u001b[1;31m    self.kernel.start()\n",
      "\u001b[1;31m  File \"c:\\ProgramData\\anaconda3\\envs\\cdp\\Lib\\site-packages\\ipykernel\\ipkernel.py\", line 240, in start\n",
      "\u001b[1;31m    super().start()\n",
      "\u001b[1;31m  File \"c:\\ProgramData\\anaconda3\\envs\\cdp\\Lib\\site-packages\\ipykernel\\kernelbase.py\", line 583, in start\n",
      "\u001b[1;31m    asyncio.run_coroutine_threadsafe(self.poll_control_queue(), control_loop.asyncio_loop)\n",
      "\u001b[1;31m  File \"c:\\ProgramData\\anaconda3\\envs\\cdp\\Lib\\asyncio\\tasks.py\", line 950, in run_coroutine_threadsafe\n",
      "\u001b[1;31m    loop.call_soon_threadsafe(callback)\n",
      "\u001b[1;31m  File \"c:\\ProgramData\\anaconda3\\envs\\cdp\\Lib\\asyncio\\base_events.py\", line 840, in call_soon_threadsafe\n",
      "\u001b[1;31m    self._check_closed()\n",
      "\u001b[1;31m  File \"c:\\ProgramData\\anaconda3\\envs\\cdp\\Lib\\asyncio\\base_events.py\", line 541, in _check_closed\n",
      "\u001b[1;31m    raise RuntimeError('Event loop is closed')\n",
      "\u001b[1;31mRuntimeError: Event loop is closed\n",
      "\u001b[1;31msys:1: RuntimeWarning: coroutine 'Kernel.poll_control_queue' was never awaited. \n",
      "\u001b[1;31mView Jupyter <a href='command:jupyter.viewOutput'>log</a> for further details."
     ]
    }
   ],
   "source": [
    "pluto_ogrio.boxplot(column=\"NumFloors\", by=\"Borough\")"
   ]
  },
  {
   "cell_type": "markdown",
   "metadata": {},
   "source": [
    "What does this distribution tell us about the number of floors in each borough?\n"
   ]
  },
  {
   "cell_type": "code",
   "execution_count": null,
   "metadata": {},
   "outputs": [
    {
     "ename": "",
     "evalue": "",
     "output_type": "error",
     "traceback": [
      "\u001b[1;31mFailed to start the Kernel. \n",
      "\u001b[1;31mTraceback (most recent call last):\n",
      "\u001b[1;31m  File \"<frozen runpy>\", line 198, in _run_module_as_main\n",
      "\u001b[1;31m  File \"<frozen runpy>\", line 88, in _run_code\n",
      "\u001b[1;31m  File \"c:\\ProgramData\\anaconda3\\envs\\cdp\\Lib\\site-packages\\ipykernel_launcher.py\", line 18, in <module>\n",
      "\u001b[1;31m    app.launch_new_instance()\n",
      "\u001b[1;31m  File \"c:\\ProgramData\\anaconda3\\envs\\cdp\\Lib\\site-packages\\traitlets\\config\\application.py\", line 1075, in launch_instance\n",
      "\u001b[1;31m    app.start()\n",
      "\u001b[1;31m  File \"c:\\ProgramData\\anaconda3\\envs\\cdp\\Lib\\site-packages\\ipykernel\\kernelapp.py\", line 726, in start\n",
      "\u001b[1;31m    self.kernel.start()\n",
      "\u001b[1;31m  File \"c:\\ProgramData\\anaconda3\\envs\\cdp\\Lib\\site-packages\\ipykernel\\ipkernel.py\", line 240, in start\n",
      "\u001b[1;31m    super().start()\n",
      "\u001b[1;31m  File \"c:\\ProgramData\\anaconda3\\envs\\cdp\\Lib\\site-packages\\ipykernel\\kernelbase.py\", line 583, in start\n",
      "\u001b[1;31m    asyncio.run_coroutine_threadsafe(self.poll_control_queue(), control_loop.asyncio_loop)\n",
      "\u001b[1;31m  File \"c:\\ProgramData\\anaconda3\\envs\\cdp\\Lib\\asyncio\\tasks.py\", line 950, in run_coroutine_threadsafe\n",
      "\u001b[1;31m    loop.call_soon_threadsafe(callback)\n",
      "\u001b[1;31m  File \"c:\\ProgramData\\anaconda3\\envs\\cdp\\Lib\\asyncio\\base_events.py\", line 840, in call_soon_threadsafe\n",
      "\u001b[1;31m    self._check_closed()\n",
      "\u001b[1;31m  File \"c:\\ProgramData\\anaconda3\\envs\\cdp\\Lib\\asyncio\\base_events.py\", line 541, in _check_closed\n",
      "\u001b[1;31m    raise RuntimeError('Event loop is closed')\n",
      "\u001b[1;31mRuntimeError: Event loop is closed\n",
      "\u001b[1;31msys:1: RuntimeWarning: coroutine 'Kernel.poll_control_queue' was never awaited. \n",
      "\u001b[1;31mView Jupyter <a href='command:jupyter.viewOutput'>log</a> for further details."
     ]
    }
   ],
   "source": []
  },
  {
   "cell_type": "markdown",
   "metadata": {},
   "source": [
    "# cluster by number of floors\n"
   ]
  },
  {
   "cell_type": "code",
   "execution_count": null,
   "metadata": {},
   "outputs": [
    {
     "ename": "",
     "evalue": "",
     "output_type": "error",
     "traceback": [
      "\u001b[1;31mFailed to start the Kernel. \n",
      "\u001b[1;31mTraceback (most recent call last):\n",
      "\u001b[1;31m  File \"<frozen runpy>\", line 198, in _run_module_as_main\n",
      "\u001b[1;31m  File \"<frozen runpy>\", line 88, in _run_code\n",
      "\u001b[1;31m  File \"c:\\ProgramData\\anaconda3\\envs\\cdp\\Lib\\site-packages\\ipykernel_launcher.py\", line 18, in <module>\n",
      "\u001b[1;31m    app.launch_new_instance()\n",
      "\u001b[1;31m  File \"c:\\ProgramData\\anaconda3\\envs\\cdp\\Lib\\site-packages\\traitlets\\config\\application.py\", line 1075, in launch_instance\n",
      "\u001b[1;31m    app.start()\n",
      "\u001b[1;31m  File \"c:\\ProgramData\\anaconda3\\envs\\cdp\\Lib\\site-packages\\ipykernel\\kernelapp.py\", line 726, in start\n",
      "\u001b[1;31m    self.kernel.start()\n",
      "\u001b[1;31m  File \"c:\\ProgramData\\anaconda3\\envs\\cdp\\Lib\\site-packages\\ipykernel\\ipkernel.py\", line 240, in start\n",
      "\u001b[1;31m    super().start()\n",
      "\u001b[1;31m  File \"c:\\ProgramData\\anaconda3\\envs\\cdp\\Lib\\site-packages\\ipykernel\\kernelbase.py\", line 583, in start\n",
      "\u001b[1;31m    asyncio.run_coroutine_threadsafe(self.poll_control_queue(), control_loop.asyncio_loop)\n",
      "\u001b[1;31m  File \"c:\\ProgramData\\anaconda3\\envs\\cdp\\Lib\\asyncio\\tasks.py\", line 950, in run_coroutine_threadsafe\n",
      "\u001b[1;31m    loop.call_soon_threadsafe(callback)\n",
      "\u001b[1;31m  File \"c:\\ProgramData\\anaconda3\\envs\\cdp\\Lib\\asyncio\\base_events.py\", line 840, in call_soon_threadsafe\n",
      "\u001b[1;31m    self._check_closed()\n",
      "\u001b[1;31m  File \"c:\\ProgramData\\anaconda3\\envs\\cdp\\Lib\\asyncio\\base_events.py\", line 541, in _check_closed\n",
      "\u001b[1;31m    raise RuntimeError('Event loop is closed')\n",
      "\u001b[1;31mRuntimeError: Event loop is closed\n",
      "\u001b[1;31msys:1: RuntimeWarning: coroutine 'Kernel.poll_control_queue' was never awaited. \n",
      "\u001b[1;31mView Jupyter <a href='command:jupyter.viewOutput'>log</a> for further details."
     ]
    }
   ],
   "source": [
    "# get clusters using kmeans\n",
    "\n",
    "kmeans = KMeans(n_clusters=5)\n",
    "kmeans.fit(pluto_ogrio[[\"NumFloors\", \"ResArea\"]])\n",
    "\n",
    "pluto_ogrio[\"NumFloorsCluster\"] = kmeans.predict(pluto_ogrio[[\"NumFloors\", \"ResArea\"]])"
   ]
  },
  {
   "cell_type": "code",
   "execution_count": null,
   "metadata": {},
   "outputs": [
    {
     "ename": "",
     "evalue": "",
     "output_type": "error",
     "traceback": [
      "\u001b[1;31mFailed to start the Kernel. \n",
      "\u001b[1;31mTraceback (most recent call last):\n",
      "\u001b[1;31m  File \"<frozen runpy>\", line 198, in _run_module_as_main\n",
      "\u001b[1;31m  File \"<frozen runpy>\", line 88, in _run_code\n",
      "\u001b[1;31m  File \"c:\\ProgramData\\anaconda3\\envs\\cdp\\Lib\\site-packages\\ipykernel_launcher.py\", line 18, in <module>\n",
      "\u001b[1;31m    app.launch_new_instance()\n",
      "\u001b[1;31m  File \"c:\\ProgramData\\anaconda3\\envs\\cdp\\Lib\\site-packages\\traitlets\\config\\application.py\", line 1075, in launch_instance\n",
      "\u001b[1;31m    app.start()\n",
      "\u001b[1;31m  File \"c:\\ProgramData\\anaconda3\\envs\\cdp\\Lib\\site-packages\\ipykernel\\kernelapp.py\", line 726, in start\n",
      "\u001b[1;31m    self.kernel.start()\n",
      "\u001b[1;31m  File \"c:\\ProgramData\\anaconda3\\envs\\cdp\\Lib\\site-packages\\ipykernel\\ipkernel.py\", line 240, in start\n",
      "\u001b[1;31m    super().start()\n",
      "\u001b[1;31m  File \"c:\\ProgramData\\anaconda3\\envs\\cdp\\Lib\\site-packages\\ipykernel\\kernelbase.py\", line 583, in start\n",
      "\u001b[1;31m    asyncio.run_coroutine_threadsafe(self.poll_control_queue(), control_loop.asyncio_loop)\n",
      "\u001b[1;31m  File \"c:\\ProgramData\\anaconda3\\envs\\cdp\\Lib\\asyncio\\tasks.py\", line 950, in run_coroutine_threadsafe\n",
      "\u001b[1;31m    loop.call_soon_threadsafe(callback)\n",
      "\u001b[1;31m  File \"c:\\ProgramData\\anaconda3\\envs\\cdp\\Lib\\asyncio\\base_events.py\", line 840, in call_soon_threadsafe\n",
      "\u001b[1;31m    self._check_closed()\n",
      "\u001b[1;31m  File \"c:\\ProgramData\\anaconda3\\envs\\cdp\\Lib\\asyncio\\base_events.py\", line 541, in _check_closed\n",
      "\u001b[1;31m    raise RuntimeError('Event loop is closed')\n",
      "\u001b[1;31mRuntimeError: Event loop is closed\n",
      "\u001b[1;31msys:1: RuntimeWarning: coroutine 'Kernel.poll_control_queue' was never awaited. \n",
      "\u001b[1;31mView Jupyter <a href='command:jupyter.viewOutput'>log</a> for further details."
     ]
    }
   ],
   "source": [
    "pluto_ogrio.groupby(\"NumFloorsCluster\").NumFloors.describe().sort_values(\"max\")"
   ]
  },
  {
   "cell_type": "code",
   "execution_count": null,
   "metadata": {},
   "outputs": [
    {
     "ename": "",
     "evalue": "",
     "output_type": "error",
     "traceback": [
      "\u001b[1;31mFailed to start the Kernel. \n",
      "\u001b[1;31mTraceback (most recent call last):\n",
      "\u001b[1;31m  File \"<frozen runpy>\", line 198, in _run_module_as_main\n",
      "\u001b[1;31m  File \"<frozen runpy>\", line 88, in _run_code\n",
      "\u001b[1;31m  File \"c:\\ProgramData\\anaconda3\\envs\\cdp\\Lib\\site-packages\\ipykernel_launcher.py\", line 18, in <module>\n",
      "\u001b[1;31m    app.launch_new_instance()\n",
      "\u001b[1;31m  File \"c:\\ProgramData\\anaconda3\\envs\\cdp\\Lib\\site-packages\\traitlets\\config\\application.py\", line 1075, in launch_instance\n",
      "\u001b[1;31m    app.start()\n",
      "\u001b[1;31m  File \"c:\\ProgramData\\anaconda3\\envs\\cdp\\Lib\\site-packages\\ipykernel\\kernelapp.py\", line 726, in start\n",
      "\u001b[1;31m    self.kernel.start()\n",
      "\u001b[1;31m  File \"c:\\ProgramData\\anaconda3\\envs\\cdp\\Lib\\site-packages\\ipykernel\\ipkernel.py\", line 240, in start\n",
      "\u001b[1;31m    super().start()\n",
      "\u001b[1;31m  File \"c:\\ProgramData\\anaconda3\\envs\\cdp\\Lib\\site-packages\\ipykernel\\kernelbase.py\", line 583, in start\n",
      "\u001b[1;31m    asyncio.run_coroutine_threadsafe(self.poll_control_queue(), control_loop.asyncio_loop)\n",
      "\u001b[1;31m  File \"c:\\ProgramData\\anaconda3\\envs\\cdp\\Lib\\asyncio\\tasks.py\", line 950, in run_coroutine_threadsafe\n",
      "\u001b[1;31m    loop.call_soon_threadsafe(callback)\n",
      "\u001b[1;31m  File \"c:\\ProgramData\\anaconda3\\envs\\cdp\\Lib\\asyncio\\base_events.py\", line 840, in call_soon_threadsafe\n",
      "\u001b[1;31m    self._check_closed()\n",
      "\u001b[1;31m  File \"c:\\ProgramData\\anaconda3\\envs\\cdp\\Lib\\asyncio\\base_events.py\", line 541, in _check_closed\n",
      "\u001b[1;31m    raise RuntimeError('Event loop is closed')\n",
      "\u001b[1;31mRuntimeError: Event loop is closed\n",
      "\u001b[1;31msys:1: RuntimeWarning: coroutine 'Kernel.poll_control_queue' was never awaited. \n",
      "\u001b[1;31mView Jupyter <a href='command:jupyter.viewOutput'>log</a> for further details."
     ]
    }
   ],
   "source": [
    "pluto_ogrio.plot.scatter(x=\"NumFloors\", y=\"ResArea\", c=\"NumFloorsCluster\", cmap=\"tab10\")"
   ]
  },
  {
   "cell_type": "code",
   "execution_count": null,
   "metadata": {},
   "outputs": [
    {
     "ename": "",
     "evalue": "",
     "output_type": "error",
     "traceback": [
      "\u001b[1;31mFailed to start the Kernel. \n",
      "\u001b[1;31mTraceback (most recent call last):\n",
      "\u001b[1;31m  File \"<frozen runpy>\", line 198, in _run_module_as_main\n",
      "\u001b[1;31m  File \"<frozen runpy>\", line 88, in _run_code\n",
      "\u001b[1;31m  File \"c:\\ProgramData\\anaconda3\\envs\\cdp\\Lib\\site-packages\\ipykernel_launcher.py\", line 18, in <module>\n",
      "\u001b[1;31m    app.launch_new_instance()\n",
      "\u001b[1;31m  File \"c:\\ProgramData\\anaconda3\\envs\\cdp\\Lib\\site-packages\\traitlets\\config\\application.py\", line 1075, in launch_instance\n",
      "\u001b[1;31m    app.start()\n",
      "\u001b[1;31m  File \"c:\\ProgramData\\anaconda3\\envs\\cdp\\Lib\\site-packages\\ipykernel\\kernelapp.py\", line 726, in start\n",
      "\u001b[1;31m    self.kernel.start()\n",
      "\u001b[1;31m  File \"c:\\ProgramData\\anaconda3\\envs\\cdp\\Lib\\site-packages\\ipykernel\\ipkernel.py\", line 240, in start\n",
      "\u001b[1;31m    super().start()\n",
      "\u001b[1;31m  File \"c:\\ProgramData\\anaconda3\\envs\\cdp\\Lib\\site-packages\\ipykernel\\kernelbase.py\", line 583, in start\n",
      "\u001b[1;31m    asyncio.run_coroutine_threadsafe(self.poll_control_queue(), control_loop.asyncio_loop)\n",
      "\u001b[1;31m  File \"c:\\ProgramData\\anaconda3\\envs\\cdp\\Lib\\asyncio\\tasks.py\", line 950, in run_coroutine_threadsafe\n",
      "\u001b[1;31m    loop.call_soon_threadsafe(callback)\n",
      "\u001b[1;31m  File \"c:\\ProgramData\\anaconda3\\envs\\cdp\\Lib\\asyncio\\base_events.py\", line 840, in call_soon_threadsafe\n",
      "\u001b[1;31m    self._check_closed()\n",
      "\u001b[1;31m  File \"c:\\ProgramData\\anaconda3\\envs\\cdp\\Lib\\asyncio\\base_events.py\", line 541, in _check_closed\n",
      "\u001b[1;31m    raise RuntimeError('Event loop is closed')\n",
      "\u001b[1;31mRuntimeError: Event loop is closed\n",
      "\u001b[1;31msys:1: RuntimeWarning: coroutine 'Kernel.poll_control_queue' was never awaited. \n",
      "\u001b[1;31mView Jupyter <a href='command:jupyter.viewOutput'>log</a> for further details."
     ]
    }
   ],
   "source": [
    "# same as above but with log y axis\n",
    "pluto_ogrio.plot.scatter(\n",
    "    x=\"NumFloors\", y=\"ResArea\", c=\"NumFloorsCluster\", cmap=\"tab10\", logy=True\n",
    ")"
   ]
  },
  {
   "cell_type": "code",
   "execution_count": null,
   "metadata": {},
   "outputs": [
    {
     "ename": "",
     "evalue": "",
     "output_type": "error",
     "traceback": [
      "\u001b[1;31mFailed to start the Kernel. \n",
      "\u001b[1;31mTraceback (most recent call last):\n",
      "\u001b[1;31m  File \"<frozen runpy>\", line 198, in _run_module_as_main\n",
      "\u001b[1;31m  File \"<frozen runpy>\", line 88, in _run_code\n",
      "\u001b[1;31m  File \"c:\\ProgramData\\anaconda3\\envs\\cdp\\Lib\\site-packages\\ipykernel_launcher.py\", line 18, in <module>\n",
      "\u001b[1;31m    app.launch_new_instance()\n",
      "\u001b[1;31m  File \"c:\\ProgramData\\anaconda3\\envs\\cdp\\Lib\\site-packages\\traitlets\\config\\application.py\", line 1075, in launch_instance\n",
      "\u001b[1;31m    app.start()\n",
      "\u001b[1;31m  File \"c:\\ProgramData\\anaconda3\\envs\\cdp\\Lib\\site-packages\\ipykernel\\kernelapp.py\", line 726, in start\n",
      "\u001b[1;31m    self.kernel.start()\n",
      "\u001b[1;31m  File \"c:\\ProgramData\\anaconda3\\envs\\cdp\\Lib\\site-packages\\ipykernel\\ipkernel.py\", line 240, in start\n",
      "\u001b[1;31m    super().start()\n",
      "\u001b[1;31m  File \"c:\\ProgramData\\anaconda3\\envs\\cdp\\Lib\\site-packages\\ipykernel\\kernelbase.py\", line 583, in start\n",
      "\u001b[1;31m    asyncio.run_coroutine_threadsafe(self.poll_control_queue(), control_loop.asyncio_loop)\n",
      "\u001b[1;31m  File \"c:\\ProgramData\\anaconda3\\envs\\cdp\\Lib\\asyncio\\tasks.py\", line 950, in run_coroutine_threadsafe\n",
      "\u001b[1;31m    loop.call_soon_threadsafe(callback)\n",
      "\u001b[1;31m  File \"c:\\ProgramData\\anaconda3\\envs\\cdp\\Lib\\asyncio\\base_events.py\", line 840, in call_soon_threadsafe\n",
      "\u001b[1;31m    self._check_closed()\n",
      "\u001b[1;31m  File \"c:\\ProgramData\\anaconda3\\envs\\cdp\\Lib\\asyncio\\base_events.py\", line 541, in _check_closed\n",
      "\u001b[1;31m    raise RuntimeError('Event loop is closed')\n",
      "\u001b[1;31mRuntimeError: Event loop is closed\n",
      "\u001b[1;31msys:1: RuntimeWarning: coroutine 'Kernel.poll_control_queue' was never awaited. \n",
      "\u001b[1;31mView Jupyter <a href='command:jupyter.viewOutput'>log</a> for further details."
     ]
    }
   ],
   "source": [
    "pluto_ogrio[\"NumFloorsCluster\"].plot.hist(bins=5, alpha=0.5)"
   ]
  },
  {
   "cell_type": "markdown",
   "metadata": {},
   "source": [
    "# and now, mapping\n"
   ]
  },
  {
   "cell_type": "markdown",
   "metadata": {},
   "source": [
    "## static map\n"
   ]
  },
  {
   "cell_type": "code",
   "execution_count": null,
   "metadata": {},
   "outputs": [
    {
     "ename": "",
     "evalue": "",
     "output_type": "error",
     "traceback": [
      "\u001b[1;31mFailed to start the Kernel. \n",
      "\u001b[1;31mTraceback (most recent call last):\n",
      "\u001b[1;31m  File \"<frozen runpy>\", line 198, in _run_module_as_main\n",
      "\u001b[1;31m  File \"<frozen runpy>\", line 88, in _run_code\n",
      "\u001b[1;31m  File \"c:\\ProgramData\\anaconda3\\envs\\cdp\\Lib\\site-packages\\ipykernel_launcher.py\", line 18, in <module>\n",
      "\u001b[1;31m    app.launch_new_instance()\n",
      "\u001b[1;31m  File \"c:\\ProgramData\\anaconda3\\envs\\cdp\\Lib\\site-packages\\traitlets\\config\\application.py\", line 1075, in launch_instance\n",
      "\u001b[1;31m    app.start()\n",
      "\u001b[1;31m  File \"c:\\ProgramData\\anaconda3\\envs\\cdp\\Lib\\site-packages\\ipykernel\\kernelapp.py\", line 726, in start\n",
      "\u001b[1;31m    self.kernel.start()\n",
      "\u001b[1;31m  File \"c:\\ProgramData\\anaconda3\\envs\\cdp\\Lib\\site-packages\\ipykernel\\ipkernel.py\", line 240, in start\n",
      "\u001b[1;31m    super().start()\n",
      "\u001b[1;31m  File \"c:\\ProgramData\\anaconda3\\envs\\cdp\\Lib\\site-packages\\ipykernel\\kernelbase.py\", line 583, in start\n",
      "\u001b[1;31m    asyncio.run_coroutine_threadsafe(self.poll_control_queue(), control_loop.asyncio_loop)\n",
      "\u001b[1;31m  File \"c:\\ProgramData\\anaconda3\\envs\\cdp\\Lib\\asyncio\\tasks.py\", line 950, in run_coroutine_threadsafe\n",
      "\u001b[1;31m    loop.call_soon_threadsafe(callback)\n",
      "\u001b[1;31m  File \"c:\\ProgramData\\anaconda3\\envs\\cdp\\Lib\\asyncio\\base_events.py\", line 840, in call_soon_threadsafe\n",
      "\u001b[1;31m    self._check_closed()\n",
      "\u001b[1;31m  File \"c:\\ProgramData\\anaconda3\\envs\\cdp\\Lib\\asyncio\\base_events.py\", line 541, in _check_closed\n",
      "\u001b[1;31m    raise RuntimeError('Event loop is closed')\n",
      "\u001b[1;31mRuntimeError: Event loop is closed\n",
      "\u001b[1;31msys:1: RuntimeWarning: coroutine 'Kernel.poll_control_queue' was never awaited. \n",
      "\u001b[1;31mView Jupyter <a href='command:jupyter.viewOutput'>log</a> for further details."
     ]
    }
   ],
   "source": [
    "pluto_ogrio.plot(figsize=(10, 10)).set_axis_off()\n",
    "plt.title(\"NYC MapPLUTO\")"
   ]
  },
  {
   "cell_type": "code",
   "execution_count": null,
   "metadata": {},
   "outputs": [
    {
     "ename": "",
     "evalue": "",
     "output_type": "error",
     "traceback": [
      "\u001b[1;31mFailed to start the Kernel. \n",
      "\u001b[1;31mTraceback (most recent call last):\n",
      "\u001b[1;31m  File \"<frozen runpy>\", line 198, in _run_module_as_main\n",
      "\u001b[1;31m  File \"<frozen runpy>\", line 88, in _run_code\n",
      "\u001b[1;31m  File \"c:\\ProgramData\\anaconda3\\envs\\cdp\\Lib\\site-packages\\ipykernel_launcher.py\", line 18, in <module>\n",
      "\u001b[1;31m    app.launch_new_instance()\n",
      "\u001b[1;31m  File \"c:\\ProgramData\\anaconda3\\envs\\cdp\\Lib\\site-packages\\traitlets\\config\\application.py\", line 1075, in launch_instance\n",
      "\u001b[1;31m    app.start()\n",
      "\u001b[1;31m  File \"c:\\ProgramData\\anaconda3\\envs\\cdp\\Lib\\site-packages\\ipykernel\\kernelapp.py\", line 726, in start\n",
      "\u001b[1;31m    self.kernel.start()\n",
      "\u001b[1;31m  File \"c:\\ProgramData\\anaconda3\\envs\\cdp\\Lib\\site-packages\\ipykernel\\ipkernel.py\", line 240, in start\n",
      "\u001b[1;31m    super().start()\n",
      "\u001b[1;31m  File \"c:\\ProgramData\\anaconda3\\envs\\cdp\\Lib\\site-packages\\ipykernel\\kernelbase.py\", line 583, in start\n",
      "\u001b[1;31m    asyncio.run_coroutine_threadsafe(self.poll_control_queue(), control_loop.asyncio_loop)\n",
      "\u001b[1;31m  File \"c:\\ProgramData\\anaconda3\\envs\\cdp\\Lib\\asyncio\\tasks.py\", line 950, in run_coroutine_threadsafe\n",
      "\u001b[1;31m    loop.call_soon_threadsafe(callback)\n",
      "\u001b[1;31m  File \"c:\\ProgramData\\anaconda3\\envs\\cdp\\Lib\\asyncio\\base_events.py\", line 840, in call_soon_threadsafe\n",
      "\u001b[1;31m    self._check_closed()\n",
      "\u001b[1;31m  File \"c:\\ProgramData\\anaconda3\\envs\\cdp\\Lib\\asyncio\\base_events.py\", line 541, in _check_closed\n",
      "\u001b[1;31m    raise RuntimeError('Event loop is closed')\n",
      "\u001b[1;31mRuntimeError: Event loop is closed\n",
      "\u001b[1;31msys:1: RuntimeWarning: coroutine 'Kernel.poll_control_queue' was never awaited. \n",
      "\u001b[1;31mView Jupyter <a href='command:jupyter.viewOutput'>log</a> for further details."
     ]
    }
   ],
   "source": [
    "cmap = {\n",
    "    \"One & Two Family Buildings\": \"#ff0000\",\n",
    "    \"Multi-Family Walk-Up Buildings\": \"#00ff00\",\n",
    "    \"Multi-Family Elevator Buildings\": \"#0000ff\",\n",
    "    \"Mixed Residential & Commercial Buildings\": \"#ff00ff\",\n",
    "    \"Commercial & Office Buildings\": \"#00ffff\",\n",
    "    \"Industrial & Manufacturing\": \"#ffff00\",\n",
    "    \"Transportation & Utility\": \"#808080\",\n",
    "    \"Public Facilities & Institutions\": \"#800000\",\n",
    "    \"Open Space & Outdoor Recreation\": \"#008000\",\n",
    "    \"Parking Facilities\": \"#000080\",\n",
    "    \"Vacant Land\": \"#800080\",\n",
    "    \"Unknown\": \"#000000\",\n",
    "}"
   ]
  },
  {
   "cell_type": "code",
   "execution_count": null,
   "metadata": {},
   "outputs": [
    {
     "ename": "",
     "evalue": "",
     "output_type": "error",
     "traceback": [
      "\u001b[1;31mFailed to start the Kernel. \n",
      "\u001b[1;31mTraceback (most recent call last):\n",
      "\u001b[1;31m  File \"<frozen runpy>\", line 198, in _run_module_as_main\n",
      "\u001b[1;31m  File \"<frozen runpy>\", line 88, in _run_code\n",
      "\u001b[1;31m  File \"c:\\ProgramData\\anaconda3\\envs\\cdp\\Lib\\site-packages\\ipykernel_launcher.py\", line 18, in <module>\n",
      "\u001b[1;31m    app.launch_new_instance()\n",
      "\u001b[1;31m  File \"c:\\ProgramData\\anaconda3\\envs\\cdp\\Lib\\site-packages\\traitlets\\config\\application.py\", line 1075, in launch_instance\n",
      "\u001b[1;31m    app.start()\n",
      "\u001b[1;31m  File \"c:\\ProgramData\\anaconda3\\envs\\cdp\\Lib\\site-packages\\ipykernel\\kernelapp.py\", line 726, in start\n",
      "\u001b[1;31m    self.kernel.start()\n",
      "\u001b[1;31m  File \"c:\\ProgramData\\anaconda3\\envs\\cdp\\Lib\\site-packages\\ipykernel\\ipkernel.py\", line 240, in start\n",
      "\u001b[1;31m    super().start()\n",
      "\u001b[1;31m  File \"c:\\ProgramData\\anaconda3\\envs\\cdp\\Lib\\site-packages\\ipykernel\\kernelbase.py\", line 583, in start\n",
      "\u001b[1;31m    asyncio.run_coroutine_threadsafe(self.poll_control_queue(), control_loop.asyncio_loop)\n",
      "\u001b[1;31m  File \"c:\\ProgramData\\anaconda3\\envs\\cdp\\Lib\\asyncio\\tasks.py\", line 950, in run_coroutine_threadsafe\n",
      "\u001b[1;31m    loop.call_soon_threadsafe(callback)\n",
      "\u001b[1;31m  File \"c:\\ProgramData\\anaconda3\\envs\\cdp\\Lib\\asyncio\\base_events.py\", line 840, in call_soon_threadsafe\n",
      "\u001b[1;31m    self._check_closed()\n",
      "\u001b[1;31m  File \"c:\\ProgramData\\anaconda3\\envs\\cdp\\Lib\\asyncio\\base_events.py\", line 541, in _check_closed\n",
      "\u001b[1;31m    raise RuntimeError('Event loop is closed')\n",
      "\u001b[1;31mRuntimeError: Event loop is closed\n",
      "\u001b[1;31msys:1: RuntimeWarning: coroutine 'Kernel.poll_control_queue' was never awaited. \n",
      "\u001b[1;31mView Jupyter <a href='command:jupyter.viewOutput'>log</a> for further details."
     ]
    }
   ],
   "source": [
    "pluto_ogrio.fillna({\"LandUse\": \"Unknown\"}, inplace=True)"
   ]
  },
  {
   "cell_type": "code",
   "execution_count": null,
   "metadata": {},
   "outputs": [
    {
     "ename": "",
     "evalue": "",
     "output_type": "error",
     "traceback": [
      "\u001b[1;31mFailed to start the Kernel. \n",
      "\u001b[1;31mTraceback (most recent call last):\n",
      "\u001b[1;31m  File \"<frozen runpy>\", line 198, in _run_module_as_main\n",
      "\u001b[1;31m  File \"<frozen runpy>\", line 88, in _run_code\n",
      "\u001b[1;31m  File \"c:\\ProgramData\\anaconda3\\envs\\cdp\\Lib\\site-packages\\ipykernel_launcher.py\", line 18, in <module>\n",
      "\u001b[1;31m    app.launch_new_instance()\n",
      "\u001b[1;31m  File \"c:\\ProgramData\\anaconda3\\envs\\cdp\\Lib\\site-packages\\traitlets\\config\\application.py\", line 1075, in launch_instance\n",
      "\u001b[1;31m    app.start()\n",
      "\u001b[1;31m  File \"c:\\ProgramData\\anaconda3\\envs\\cdp\\Lib\\site-packages\\ipykernel\\kernelapp.py\", line 726, in start\n",
      "\u001b[1;31m    self.kernel.start()\n",
      "\u001b[1;31m  File \"c:\\ProgramData\\anaconda3\\envs\\cdp\\Lib\\site-packages\\ipykernel\\ipkernel.py\", line 240, in start\n",
      "\u001b[1;31m    super().start()\n",
      "\u001b[1;31m  File \"c:\\ProgramData\\anaconda3\\envs\\cdp\\Lib\\site-packages\\ipykernel\\kernelbase.py\", line 583, in start\n",
      "\u001b[1;31m    asyncio.run_coroutine_threadsafe(self.poll_control_queue(), control_loop.asyncio_loop)\n",
      "\u001b[1;31m  File \"c:\\ProgramData\\anaconda3\\envs\\cdp\\Lib\\asyncio\\tasks.py\", line 950, in run_coroutine_threadsafe\n",
      "\u001b[1;31m    loop.call_soon_threadsafe(callback)\n",
      "\u001b[1;31m  File \"c:\\ProgramData\\anaconda3\\envs\\cdp\\Lib\\asyncio\\base_events.py\", line 840, in call_soon_threadsafe\n",
      "\u001b[1;31m    self._check_closed()\n",
      "\u001b[1;31m  File \"c:\\ProgramData\\anaconda3\\envs\\cdp\\Lib\\asyncio\\base_events.py\", line 541, in _check_closed\n",
      "\u001b[1;31m    raise RuntimeError('Event loop is closed')\n",
      "\u001b[1;31mRuntimeError: Event loop is closed\n",
      "\u001b[1;31msys:1: RuntimeWarning: coroutine 'Kernel.poll_control_queue' was never awaited. \n",
      "\u001b[1;31mView Jupyter <a href='command:jupyter.viewOutput'>log</a> for further details."
     ]
    }
   ],
   "source": [
    "pluto_ogrio[\"color\"] = pluto_ogrio[\"LandUse\"].map(cmap)"
   ]
  },
  {
   "cell_type": "code",
   "execution_count": null,
   "metadata": {},
   "outputs": [
    {
     "ename": "",
     "evalue": "",
     "output_type": "error",
     "traceback": [
      "\u001b[1;31mFailed to start the Kernel. \n",
      "\u001b[1;31mTraceback (most recent call last):\n",
      "\u001b[1;31m  File \"<frozen runpy>\", line 198, in _run_module_as_main\n",
      "\u001b[1;31m  File \"<frozen runpy>\", line 88, in _run_code\n",
      "\u001b[1;31m  File \"c:\\ProgramData\\anaconda3\\envs\\cdp\\Lib\\site-packages\\ipykernel_launcher.py\", line 18, in <module>\n",
      "\u001b[1;31m    app.launch_new_instance()\n",
      "\u001b[1;31m  File \"c:\\ProgramData\\anaconda3\\envs\\cdp\\Lib\\site-packages\\traitlets\\config\\application.py\", line 1075, in launch_instance\n",
      "\u001b[1;31m    app.start()\n",
      "\u001b[1;31m  File \"c:\\ProgramData\\anaconda3\\envs\\cdp\\Lib\\site-packages\\ipykernel\\kernelapp.py\", line 726, in start\n",
      "\u001b[1;31m    self.kernel.start()\n",
      "\u001b[1;31m  File \"c:\\ProgramData\\anaconda3\\envs\\cdp\\Lib\\site-packages\\ipykernel\\ipkernel.py\", line 240, in start\n",
      "\u001b[1;31m    super().start()\n",
      "\u001b[1;31m  File \"c:\\ProgramData\\anaconda3\\envs\\cdp\\Lib\\site-packages\\ipykernel\\kernelbase.py\", line 583, in start\n",
      "\u001b[1;31m    asyncio.run_coroutine_threadsafe(self.poll_control_queue(), control_loop.asyncio_loop)\n",
      "\u001b[1;31m  File \"c:\\ProgramData\\anaconda3\\envs\\cdp\\Lib\\asyncio\\tasks.py\", line 950, in run_coroutine_threadsafe\n",
      "\u001b[1;31m    loop.call_soon_threadsafe(callback)\n",
      "\u001b[1;31m  File \"c:\\ProgramData\\anaconda3\\envs\\cdp\\Lib\\asyncio\\base_events.py\", line 840, in call_soon_threadsafe\n",
      "\u001b[1;31m    self._check_closed()\n",
      "\u001b[1;31m  File \"c:\\ProgramData\\anaconda3\\envs\\cdp\\Lib\\asyncio\\base_events.py\", line 541, in _check_closed\n",
      "\u001b[1;31m    raise RuntimeError('Event loop is closed')\n",
      "\u001b[1;31mRuntimeError: Event loop is closed\n",
      "\u001b[1;31msys:1: RuntimeWarning: coroutine 'Kernel.poll_control_queue' was never awaited. \n",
      "\u001b[1;31mView Jupyter <a href='command:jupyter.viewOutput'>log</a> for further details."
     ]
    }
   ],
   "source": [
    "ax = pluto_ogrio.plot(\n",
    "    color=pluto_ogrio[\"color\"],\n",
    "    figsize=(10, 10),\n",
    "    legend=True,\n",
    ").set_axis_off()\n",
    "plt.title(\"NYC MapPLUTO\")\n",
    "\n",
    "\n",
    "# populate legend items based on dict from above\n",
    "legend_colors = [\n",
    "    plt.Line2D([0], [0], marker=\"o\", color=\"w\", markerfacecolor=c, markersize=10)\n",
    "    for c in cmap.values()\n",
    "]\n",
    "labels = cmap.keys()\n",
    "plt.legend(legend_colors, labels, loc=\"upper left\")"
   ]
  },
  {
   "cell_type": "code",
   "execution_count": null,
   "metadata": {},
   "outputs": [
    {
     "ename": "",
     "evalue": "",
     "output_type": "error",
     "traceback": [
      "\u001b[1;31mFailed to start the Kernel. \n",
      "\u001b[1;31mTraceback (most recent call last):\n",
      "\u001b[1;31m  File \"<frozen runpy>\", line 198, in _run_module_as_main\n",
      "\u001b[1;31m  File \"<frozen runpy>\", line 88, in _run_code\n",
      "\u001b[1;31m  File \"c:\\ProgramData\\anaconda3\\envs\\cdp\\Lib\\site-packages\\ipykernel_launcher.py\", line 18, in <module>\n",
      "\u001b[1;31m    app.launch_new_instance()\n",
      "\u001b[1;31m  File \"c:\\ProgramData\\anaconda3\\envs\\cdp\\Lib\\site-packages\\traitlets\\config\\application.py\", line 1075, in launch_instance\n",
      "\u001b[1;31m    app.start()\n",
      "\u001b[1;31m  File \"c:\\ProgramData\\anaconda3\\envs\\cdp\\Lib\\site-packages\\ipykernel\\kernelapp.py\", line 726, in start\n",
      "\u001b[1;31m    self.kernel.start()\n",
      "\u001b[1;31m  File \"c:\\ProgramData\\anaconda3\\envs\\cdp\\Lib\\site-packages\\ipykernel\\ipkernel.py\", line 240, in start\n",
      "\u001b[1;31m    super().start()\n",
      "\u001b[1;31m  File \"c:\\ProgramData\\anaconda3\\envs\\cdp\\Lib\\site-packages\\ipykernel\\kernelbase.py\", line 583, in start\n",
      "\u001b[1;31m    asyncio.run_coroutine_threadsafe(self.poll_control_queue(), control_loop.asyncio_loop)\n",
      "\u001b[1;31m  File \"c:\\ProgramData\\anaconda3\\envs\\cdp\\Lib\\asyncio\\tasks.py\", line 950, in run_coroutine_threadsafe\n",
      "\u001b[1;31m    loop.call_soon_threadsafe(callback)\n",
      "\u001b[1;31m  File \"c:\\ProgramData\\anaconda3\\envs\\cdp\\Lib\\asyncio\\base_events.py\", line 840, in call_soon_threadsafe\n",
      "\u001b[1;31m    self._check_closed()\n",
      "\u001b[1;31m  File \"c:\\ProgramData\\anaconda3\\envs\\cdp\\Lib\\asyncio\\base_events.py\", line 541, in _check_closed\n",
      "\u001b[1;31m    raise RuntimeError('Event loop is closed')\n",
      "\u001b[1;31mRuntimeError: Event loop is closed\n",
      "\u001b[1;31msys:1: RuntimeWarning: coroutine 'Kernel.poll_control_queue' was never awaited. \n",
      "\u001b[1;31mView Jupyter <a href='command:jupyter.viewOutput'>log</a> for further details."
     ]
    }
   ],
   "source": [
    "pluto_ogrio.plot(\n",
    "    column=\"LandUse\", figsize=(10, 10), legend=True, legend_kwds={\"loc\": \"upper left\"}\n",
    ").set_axis_off()\n",
    "plt.title(\"NYC MapPLUTO\")"
   ]
  },
  {
   "cell_type": "markdown",
   "metadata": {},
   "source": [
    "## Your turn:\n",
    "\n",
    "- map a numeric column using a continuous colormap for Queens. See here for a list and discussion of colormaps: https://matplotlib.org/stable/tutorials/colors/colormaps.html\n",
    "- What patterns emerge?\n"
   ]
  },
  {
   "cell_type": "code",
   "execution_count": null,
   "metadata": {},
   "outputs": [
    {
     "ename": "",
     "evalue": "",
     "output_type": "error",
     "traceback": [
      "\u001b[1;31mFailed to start the Kernel. \n",
      "\u001b[1;31mTraceback (most recent call last):\n",
      "\u001b[1;31m  File \"<frozen runpy>\", line 198, in _run_module_as_main\n",
      "\u001b[1;31m  File \"<frozen runpy>\", line 88, in _run_code\n",
      "\u001b[1;31m  File \"c:\\ProgramData\\anaconda3\\envs\\cdp\\Lib\\site-packages\\ipykernel_launcher.py\", line 18, in <module>\n",
      "\u001b[1;31m    app.launch_new_instance()\n",
      "\u001b[1;31m  File \"c:\\ProgramData\\anaconda3\\envs\\cdp\\Lib\\site-packages\\traitlets\\config\\application.py\", line 1075, in launch_instance\n",
      "\u001b[1;31m    app.start()\n",
      "\u001b[1;31m  File \"c:\\ProgramData\\anaconda3\\envs\\cdp\\Lib\\site-packages\\ipykernel\\kernelapp.py\", line 726, in start\n",
      "\u001b[1;31m    self.kernel.start()\n",
      "\u001b[1;31m  File \"c:\\ProgramData\\anaconda3\\envs\\cdp\\Lib\\site-packages\\ipykernel\\ipkernel.py\", line 240, in start\n",
      "\u001b[1;31m    super().start()\n",
      "\u001b[1;31m  File \"c:\\ProgramData\\anaconda3\\envs\\cdp\\Lib\\site-packages\\ipykernel\\kernelbase.py\", line 583, in start\n",
      "\u001b[1;31m    asyncio.run_coroutine_threadsafe(self.poll_control_queue(), control_loop.asyncio_loop)\n",
      "\u001b[1;31m  File \"c:\\ProgramData\\anaconda3\\envs\\cdp\\Lib\\asyncio\\tasks.py\", line 950, in run_coroutine_threadsafe\n",
      "\u001b[1;31m    loop.call_soon_threadsafe(callback)\n",
      "\u001b[1;31m  File \"c:\\ProgramData\\anaconda3\\envs\\cdp\\Lib\\asyncio\\base_events.py\", line 840, in call_soon_threadsafe\n",
      "\u001b[1;31m    self._check_closed()\n",
      "\u001b[1;31m  File \"c:\\ProgramData\\anaconda3\\envs\\cdp\\Lib\\asyncio\\base_events.py\", line 541, in _check_closed\n",
      "\u001b[1;31m    raise RuntimeError('Event loop is closed')\n",
      "\u001b[1;31mRuntimeError: Event loop is closed\n",
      "\u001b[1;31msys:1: RuntimeWarning: coroutine 'Kernel.poll_control_queue' was never awaited. \n",
      "\u001b[1;31mView Jupyter <a href='command:jupyter.viewOutput'>log</a> for further details."
     ]
    }
   ],
   "source": [
    "pluto_ogrio.Borough"
   ]
  },
  {
   "cell_type": "markdown",
   "metadata": {},
   "source": [
    "# prep for interactive mapping\n"
   ]
  },
  {
   "cell_type": "code",
   "execution_count": null,
   "metadata": {},
   "outputs": [
    {
     "ename": "",
     "evalue": "",
     "output_type": "error",
     "traceback": [
      "\u001b[1;31mFailed to start the Kernel. \n",
      "\u001b[1;31mTraceback (most recent call last):\n",
      "\u001b[1;31m  File \"<frozen runpy>\", line 198, in _run_module_as_main\n",
      "\u001b[1;31m  File \"<frozen runpy>\", line 88, in _run_code\n",
      "\u001b[1;31m  File \"c:\\ProgramData\\anaconda3\\envs\\cdp\\Lib\\site-packages\\ipykernel_launcher.py\", line 18, in <module>\n",
      "\u001b[1;31m    app.launch_new_instance()\n",
      "\u001b[1;31m  File \"c:\\ProgramData\\anaconda3\\envs\\cdp\\Lib\\site-packages\\traitlets\\config\\application.py\", line 1075, in launch_instance\n",
      "\u001b[1;31m    app.start()\n",
      "\u001b[1;31m  File \"c:\\ProgramData\\anaconda3\\envs\\cdp\\Lib\\site-packages\\ipykernel\\kernelapp.py\", line 726, in start\n",
      "\u001b[1;31m    self.kernel.start()\n",
      "\u001b[1;31m  File \"c:\\ProgramData\\anaconda3\\envs\\cdp\\Lib\\site-packages\\ipykernel\\ipkernel.py\", line 240, in start\n",
      "\u001b[1;31m    super().start()\n",
      "\u001b[1;31m  File \"c:\\ProgramData\\anaconda3\\envs\\cdp\\Lib\\site-packages\\ipykernel\\kernelbase.py\", line 583, in start\n",
      "\u001b[1;31m    asyncio.run_coroutine_threadsafe(self.poll_control_queue(), control_loop.asyncio_loop)\n",
      "\u001b[1;31m  File \"c:\\ProgramData\\anaconda3\\envs\\cdp\\Lib\\asyncio\\tasks.py\", line 950, in run_coroutine_threadsafe\n",
      "\u001b[1;31m    loop.call_soon_threadsafe(callback)\n",
      "\u001b[1;31m  File \"c:\\ProgramData\\anaconda3\\envs\\cdp\\Lib\\asyncio\\base_events.py\", line 840, in call_soon_threadsafe\n",
      "\u001b[1;31m    self._check_closed()\n",
      "\u001b[1;31m  File \"c:\\ProgramData\\anaconda3\\envs\\cdp\\Lib\\asyncio\\base_events.py\", line 541, in _check_closed\n",
      "\u001b[1;31m    raise RuntimeError('Event loop is closed')\n",
      "\u001b[1;31mRuntimeError: Event loop is closed\n",
      "\u001b[1;31msys:1: RuntimeWarning: coroutine 'Kernel.poll_control_queue' was never awaited. \n",
      "\u001b[1;31mView Jupyter <a href='command:jupyter.viewOutput'>log</a> for further details."
     ]
    }
   ],
   "source": [
    "pluto_ogrio[pluto_ogrio.Borough.eq('MN')].plot(column=\"LandUse\", figsize=(10,10))"
   ]
  },
  {
   "cell_type": "code",
   "execution_count": null,
   "metadata": {},
   "outputs": [
    {
     "ename": "",
     "evalue": "",
     "output_type": "error",
     "traceback": [
      "\u001b[1;31mFailed to start the Kernel. \n",
      "\u001b[1;31mTraceback (most recent call last):\n",
      "\u001b[1;31m  File \"<frozen runpy>\", line 198, in _run_module_as_main\n",
      "\u001b[1;31m  File \"<frozen runpy>\", line 88, in _run_code\n",
      "\u001b[1;31m  File \"c:\\ProgramData\\anaconda3\\envs\\cdp\\Lib\\site-packages\\ipykernel_launcher.py\", line 18, in <module>\n",
      "\u001b[1;31m    app.launch_new_instance()\n",
      "\u001b[1;31m  File \"c:\\ProgramData\\anaconda3\\envs\\cdp\\Lib\\site-packages\\traitlets\\config\\application.py\", line 1075, in launch_instance\n",
      "\u001b[1;31m    app.start()\n",
      "\u001b[1;31m  File \"c:\\ProgramData\\anaconda3\\envs\\cdp\\Lib\\site-packages\\ipykernel\\kernelapp.py\", line 726, in start\n",
      "\u001b[1;31m    self.kernel.start()\n",
      "\u001b[1;31m  File \"c:\\ProgramData\\anaconda3\\envs\\cdp\\Lib\\site-packages\\ipykernel\\ipkernel.py\", line 240, in start\n",
      "\u001b[1;31m    super().start()\n",
      "\u001b[1;31m  File \"c:\\ProgramData\\anaconda3\\envs\\cdp\\Lib\\site-packages\\ipykernel\\kernelbase.py\", line 583, in start\n",
      "\u001b[1;31m    asyncio.run_coroutine_threadsafe(self.poll_control_queue(), control_loop.asyncio_loop)\n",
      "\u001b[1;31m  File \"c:\\ProgramData\\anaconda3\\envs\\cdp\\Lib\\asyncio\\tasks.py\", line 950, in run_coroutine_threadsafe\n",
      "\u001b[1;31m    loop.call_soon_threadsafe(callback)\n",
      "\u001b[1;31m  File \"c:\\ProgramData\\anaconda3\\envs\\cdp\\Lib\\asyncio\\base_events.py\", line 840, in call_soon_threadsafe\n",
      "\u001b[1;31m    self._check_closed()\n",
      "\u001b[1;31m  File \"c:\\ProgramData\\anaconda3\\envs\\cdp\\Lib\\asyncio\\base_events.py\", line 541, in _check_closed\n",
      "\u001b[1;31m    raise RuntimeError('Event loop is closed')\n",
      "\u001b[1;31mRuntimeError: Event loop is closed\n",
      "\u001b[1;31msys:1: RuntimeWarning: coroutine 'Kernel.poll_control_queue' was never awaited. \n",
      "\u001b[1;31mView Jupyter <a href='command:jupyter.viewOutput'>log</a> for further details."
     ]
    }
   ],
   "source": [
    "pluto_ogrio_wgs = pluto_ogrio.to_crs(\"epsg:4326\")"
   ]
  },
  {
   "cell_type": "markdown",
   "metadata": {},
   "source": [
    "## visualize a categorical variable\n"
   ]
  },
  {
   "cell_type": "code",
   "execution_count": null,
   "metadata": {},
   "outputs": [
    {
     "ename": "",
     "evalue": "",
     "output_type": "error",
     "traceback": [
      "\u001b[1;31mFailed to start the Kernel. \n",
      "\u001b[1;31mTraceback (most recent call last):\n",
      "\u001b[1;31m  File \"<frozen runpy>\", line 198, in _run_module_as_main\n",
      "\u001b[1;31m  File \"<frozen runpy>\", line 88, in _run_code\n",
      "\u001b[1;31m  File \"c:\\ProgramData\\anaconda3\\envs\\cdp\\Lib\\site-packages\\ipykernel_launcher.py\", line 18, in <module>\n",
      "\u001b[1;31m    app.launch_new_instance()\n",
      "\u001b[1;31m  File \"c:\\ProgramData\\anaconda3\\envs\\cdp\\Lib\\site-packages\\traitlets\\config\\application.py\", line 1075, in launch_instance\n",
      "\u001b[1;31m    app.start()\n",
      "\u001b[1;31m  File \"c:\\ProgramData\\anaconda3\\envs\\cdp\\Lib\\site-packages\\ipykernel\\kernelapp.py\", line 726, in start\n",
      "\u001b[1;31m    self.kernel.start()\n",
      "\u001b[1;31m  File \"c:\\ProgramData\\anaconda3\\envs\\cdp\\Lib\\site-packages\\ipykernel\\ipkernel.py\", line 240, in start\n",
      "\u001b[1;31m    super().start()\n",
      "\u001b[1;31m  File \"c:\\ProgramData\\anaconda3\\envs\\cdp\\Lib\\site-packages\\ipykernel\\kernelbase.py\", line 583, in start\n",
      "\u001b[1;31m    asyncio.run_coroutine_threadsafe(self.poll_control_queue(), control_loop.asyncio_loop)\n",
      "\u001b[1;31m  File \"c:\\ProgramData\\anaconda3\\envs\\cdp\\Lib\\asyncio\\tasks.py\", line 950, in run_coroutine_threadsafe\n",
      "\u001b[1;31m    loop.call_soon_threadsafe(callback)\n",
      "\u001b[1;31m  File \"c:\\ProgramData\\anaconda3\\envs\\cdp\\Lib\\asyncio\\base_events.py\", line 840, in call_soon_threadsafe\n",
      "\u001b[1;31m    self._check_closed()\n",
      "\u001b[1;31m  File \"c:\\ProgramData\\anaconda3\\envs\\cdp\\Lib\\asyncio\\base_events.py\", line 541, in _check_closed\n",
      "\u001b[1;31m    raise RuntimeError('Event loop is closed')\n",
      "\u001b[1;31mRuntimeError: Event loop is closed\n",
      "\u001b[1;31msys:1: RuntimeWarning: coroutine 'Kernel.poll_control_queue' was never awaited. \n",
      "\u001b[1;31mView Jupyter <a href='command:jupyter.viewOutput'>log</a> for further details."
     ]
    }
   ],
   "source": [
    "cmap_rgb = {k: list(int(v[i : i + 2], 16) for i in (1, 3, 5)) for k, v in cmap.items()}"
   ]
  },
  {
   "cell_type": "code",
   "execution_count": null,
   "metadata": {},
   "outputs": [
    {
     "ename": "",
     "evalue": "",
     "output_type": "error",
     "traceback": [
      "\u001b[1;31mFailed to start the Kernel. \n",
      "\u001b[1;31mTraceback (most recent call last):\n",
      "\u001b[1;31m  File \"<frozen runpy>\", line 198, in _run_module_as_main\n",
      "\u001b[1;31m  File \"<frozen runpy>\", line 88, in _run_code\n",
      "\u001b[1;31m  File \"c:\\ProgramData\\anaconda3\\envs\\cdp\\Lib\\site-packages\\ipykernel_launcher.py\", line 18, in <module>\n",
      "\u001b[1;31m    app.launch_new_instance()\n",
      "\u001b[1;31m  File \"c:\\ProgramData\\anaconda3\\envs\\cdp\\Lib\\site-packages\\traitlets\\config\\application.py\", line 1075, in launch_instance\n",
      "\u001b[1;31m    app.start()\n",
      "\u001b[1;31m  File \"c:\\ProgramData\\anaconda3\\envs\\cdp\\Lib\\site-packages\\ipykernel\\kernelapp.py\", line 726, in start\n",
      "\u001b[1;31m    self.kernel.start()\n",
      "\u001b[1;31m  File \"c:\\ProgramData\\anaconda3\\envs\\cdp\\Lib\\site-packages\\ipykernel\\ipkernel.py\", line 240, in start\n",
      "\u001b[1;31m    super().start()\n",
      "\u001b[1;31m  File \"c:\\ProgramData\\anaconda3\\envs\\cdp\\Lib\\site-packages\\ipykernel\\kernelbase.py\", line 583, in start\n",
      "\u001b[1;31m    asyncio.run_coroutine_threadsafe(self.poll_control_queue(), control_loop.asyncio_loop)\n",
      "\u001b[1;31m  File \"c:\\ProgramData\\anaconda3\\envs\\cdp\\Lib\\asyncio\\tasks.py\", line 950, in run_coroutine_threadsafe\n",
      "\u001b[1;31m    loop.call_soon_threadsafe(callback)\n",
      "\u001b[1;31m  File \"c:\\ProgramData\\anaconda3\\envs\\cdp\\Lib\\asyncio\\base_events.py\", line 840, in call_soon_threadsafe\n",
      "\u001b[1;31m    self._check_closed()\n",
      "\u001b[1;31m  File \"c:\\ProgramData\\anaconda3\\envs\\cdp\\Lib\\asyncio\\base_events.py\", line 541, in _check_closed\n",
      "\u001b[1;31m    raise RuntimeError('Event loop is closed')\n",
      "\u001b[1;31mRuntimeError: Event loop is closed\n",
      "\u001b[1;31msys:1: RuntimeWarning: coroutine 'Kernel.poll_control_queue' was never awaited. \n",
      "\u001b[1;31mView Jupyter <a href='command:jupyter.viewOutput'>log</a> for further details."
     ]
    }
   ],
   "source": [
    "cmap_rgb"
   ]
  },
  {
   "cell_type": "code",
   "execution_count": null,
   "metadata": {},
   "outputs": [
    {
     "ename": "",
     "evalue": "",
     "output_type": "error",
     "traceback": [
      "\u001b[1;31mFailed to start the Kernel. \n",
      "\u001b[1;31mTraceback (most recent call last):\n",
      "\u001b[1;31m  File \"<frozen runpy>\", line 198, in _run_module_as_main\n",
      "\u001b[1;31m  File \"<frozen runpy>\", line 88, in _run_code\n",
      "\u001b[1;31m  File \"c:\\ProgramData\\anaconda3\\envs\\cdp\\Lib\\site-packages\\ipykernel_launcher.py\", line 18, in <module>\n",
      "\u001b[1;31m    app.launch_new_instance()\n",
      "\u001b[1;31m  File \"c:\\ProgramData\\anaconda3\\envs\\cdp\\Lib\\site-packages\\traitlets\\config\\application.py\", line 1075, in launch_instance\n",
      "\u001b[1;31m    app.start()\n",
      "\u001b[1;31m  File \"c:\\ProgramData\\anaconda3\\envs\\cdp\\Lib\\site-packages\\ipykernel\\kernelapp.py\", line 726, in start\n",
      "\u001b[1;31m    self.kernel.start()\n",
      "\u001b[1;31m  File \"c:\\ProgramData\\anaconda3\\envs\\cdp\\Lib\\site-packages\\ipykernel\\ipkernel.py\", line 240, in start\n",
      "\u001b[1;31m    super().start()\n",
      "\u001b[1;31m  File \"c:\\ProgramData\\anaconda3\\envs\\cdp\\Lib\\site-packages\\ipykernel\\kernelbase.py\", line 583, in start\n",
      "\u001b[1;31m    asyncio.run_coroutine_threadsafe(self.poll_control_queue(), control_loop.asyncio_loop)\n",
      "\u001b[1;31m  File \"c:\\ProgramData\\anaconda3\\envs\\cdp\\Lib\\asyncio\\tasks.py\", line 950, in run_coroutine_threadsafe\n",
      "\u001b[1;31m    loop.call_soon_threadsafe(callback)\n",
      "\u001b[1;31m  File \"c:\\ProgramData\\anaconda3\\envs\\cdp\\Lib\\asyncio\\base_events.py\", line 840, in call_soon_threadsafe\n",
      "\u001b[1;31m    self._check_closed()\n",
      "\u001b[1;31m  File \"c:\\ProgramData\\anaconda3\\envs\\cdp\\Lib\\asyncio\\base_events.py\", line 541, in _check_closed\n",
      "\u001b[1;31m    raise RuntimeError('Event loop is closed')\n",
      "\u001b[1;31mRuntimeError: Event loop is closed\n",
      "\u001b[1;31msys:1: RuntimeWarning: coroutine 'Kernel.poll_control_queue' was never awaited. \n",
      "\u001b[1;31mView Jupyter <a href='command:jupyter.viewOutput'>log</a> for further details."
     ]
    }
   ],
   "source": [
    "len(pluto_ogrio_wgs[pluto_ogrio_wgs[\"LandUse\"].isna()])"
   ]
  },
  {
   "cell_type": "code",
   "execution_count": null,
   "metadata": {},
   "outputs": [
    {
     "ename": "",
     "evalue": "",
     "output_type": "error",
     "traceback": [
      "\u001b[1;31mFailed to start the Kernel. \n",
      "\u001b[1;31mTraceback (most recent call last):\n",
      "\u001b[1;31m  File \"<frozen runpy>\", line 198, in _run_module_as_main\n",
      "\u001b[1;31m  File \"<frozen runpy>\", line 88, in _run_code\n",
      "\u001b[1;31m  File \"c:\\ProgramData\\anaconda3\\envs\\cdp\\Lib\\site-packages\\ipykernel_launcher.py\", line 18, in <module>\n",
      "\u001b[1;31m    app.launch_new_instance()\n",
      "\u001b[1;31m  File \"c:\\ProgramData\\anaconda3\\envs\\cdp\\Lib\\site-packages\\traitlets\\config\\application.py\", line 1075, in launch_instance\n",
      "\u001b[1;31m    app.start()\n",
      "\u001b[1;31m  File \"c:\\ProgramData\\anaconda3\\envs\\cdp\\Lib\\site-packages\\ipykernel\\kernelapp.py\", line 726, in start\n",
      "\u001b[1;31m    self.kernel.start()\n",
      "\u001b[1;31m  File \"c:\\ProgramData\\anaconda3\\envs\\cdp\\Lib\\site-packages\\ipykernel\\ipkernel.py\", line 240, in start\n",
      "\u001b[1;31m    super().start()\n",
      "\u001b[1;31m  File \"c:\\ProgramData\\anaconda3\\envs\\cdp\\Lib\\site-packages\\ipykernel\\kernelbase.py\", line 583, in start\n",
      "\u001b[1;31m    asyncio.run_coroutine_threadsafe(self.poll_control_queue(), control_loop.asyncio_loop)\n",
      "\u001b[1;31m  File \"c:\\ProgramData\\anaconda3\\envs\\cdp\\Lib\\asyncio\\tasks.py\", line 950, in run_coroutine_threadsafe\n",
      "\u001b[1;31m    loop.call_soon_threadsafe(callback)\n",
      "\u001b[1;31m  File \"c:\\ProgramData\\anaconda3\\envs\\cdp\\Lib\\asyncio\\base_events.py\", line 840, in call_soon_threadsafe\n",
      "\u001b[1;31m    self._check_closed()\n",
      "\u001b[1;31m  File \"c:\\ProgramData\\anaconda3\\envs\\cdp\\Lib\\asyncio\\base_events.py\", line 541, in _check_closed\n",
      "\u001b[1;31m    raise RuntimeError('Event loop is closed')\n",
      "\u001b[1;31mRuntimeError: Event loop is closed\n",
      "\u001b[1;31msys:1: RuntimeWarning: coroutine 'Kernel.poll_control_queue' was never awaited. \n",
      "\u001b[1;31mView Jupyter <a href='command:jupyter.viewOutput'>log</a> for further details."
     ]
    }
   ],
   "source": [
    "pluto_ogrio_wgs[\"LandUse\"].fillna(\"Unknown\", inplace=True)"
   ]
  },
  {
   "cell_type": "markdown",
   "metadata": {},
   "source": [
    "## uhoh- observe the above warning- re-write the code to avoid this\n"
   ]
  },
  {
   "cell_type": "code",
   "execution_count": null,
   "metadata": {},
   "outputs": [
    {
     "ename": "",
     "evalue": "",
     "output_type": "error",
     "traceback": [
      "\u001b[1;31mFailed to start the Kernel. \n",
      "\u001b[1;31mTraceback (most recent call last):\n",
      "\u001b[1;31m  File \"<frozen runpy>\", line 198, in _run_module_as_main\n",
      "\u001b[1;31m  File \"<frozen runpy>\", line 88, in _run_code\n",
      "\u001b[1;31m  File \"c:\\ProgramData\\anaconda3\\envs\\cdp\\Lib\\site-packages\\ipykernel_launcher.py\", line 18, in <module>\n",
      "\u001b[1;31m    app.launch_new_instance()\n",
      "\u001b[1;31m  File \"c:\\ProgramData\\anaconda3\\envs\\cdp\\Lib\\site-packages\\traitlets\\config\\application.py\", line 1075, in launch_instance\n",
      "\u001b[1;31m    app.start()\n",
      "\u001b[1;31m  File \"c:\\ProgramData\\anaconda3\\envs\\cdp\\Lib\\site-packages\\ipykernel\\kernelapp.py\", line 726, in start\n",
      "\u001b[1;31m    self.kernel.start()\n",
      "\u001b[1;31m  File \"c:\\ProgramData\\anaconda3\\envs\\cdp\\Lib\\site-packages\\ipykernel\\ipkernel.py\", line 240, in start\n",
      "\u001b[1;31m    super().start()\n",
      "\u001b[1;31m  File \"c:\\ProgramData\\anaconda3\\envs\\cdp\\Lib\\site-packages\\ipykernel\\kernelbase.py\", line 583, in start\n",
      "\u001b[1;31m    asyncio.run_coroutine_threadsafe(self.poll_control_queue(), control_loop.asyncio_loop)\n",
      "\u001b[1;31m  File \"c:\\ProgramData\\anaconda3\\envs\\cdp\\Lib\\asyncio\\tasks.py\", line 950, in run_coroutine_threadsafe\n",
      "\u001b[1;31m    loop.call_soon_threadsafe(callback)\n",
      "\u001b[1;31m  File \"c:\\ProgramData\\anaconda3\\envs\\cdp\\Lib\\asyncio\\base_events.py\", line 840, in call_soon_threadsafe\n",
      "\u001b[1;31m    self._check_closed()\n",
      "\u001b[1;31m  File \"c:\\ProgramData\\anaconda3\\envs\\cdp\\Lib\\asyncio\\base_events.py\", line 541, in _check_closed\n",
      "\u001b[1;31m    raise RuntimeError('Event loop is closed')\n",
      "\u001b[1;31mRuntimeError: Event loop is closed\n",
      "\u001b[1;31msys:1: RuntimeWarning: coroutine 'Kernel.poll_control_queue' was never awaited. \n",
      "\u001b[1;31mView Jupyter <a href='command:jupyter.viewOutput'>log</a> for further details."
     ]
    }
   ],
   "source": []
  },
  {
   "cell_type": "markdown",
   "metadata": {},
   "source": [
    "## now, we can plot the data using lonboard to create an interactive map\n"
   ]
  },
  {
   "cell_type": "code",
   "execution_count": null,
   "metadata": {},
   "outputs": [
    {
     "ename": "",
     "evalue": "",
     "output_type": "error",
     "traceback": [
      "\u001b[1;31mFailed to start the Kernel. \n",
      "\u001b[1;31mTraceback (most recent call last):\n",
      "\u001b[1;31m  File \"<frozen runpy>\", line 198, in _run_module_as_main\n",
      "\u001b[1;31m  File \"<frozen runpy>\", line 88, in _run_code\n",
      "\u001b[1;31m  File \"c:\\ProgramData\\anaconda3\\envs\\cdp\\Lib\\site-packages\\ipykernel_launcher.py\", line 18, in <module>\n",
      "\u001b[1;31m    app.launch_new_instance()\n",
      "\u001b[1;31m  File \"c:\\ProgramData\\anaconda3\\envs\\cdp\\Lib\\site-packages\\traitlets\\config\\application.py\", line 1075, in launch_instance\n",
      "\u001b[1;31m    app.start()\n",
      "\u001b[1;31m  File \"c:\\ProgramData\\anaconda3\\envs\\cdp\\Lib\\site-packages\\ipykernel\\kernelapp.py\", line 726, in start\n",
      "\u001b[1;31m    self.kernel.start()\n",
      "\u001b[1;31m  File \"c:\\ProgramData\\anaconda3\\envs\\cdp\\Lib\\site-packages\\ipykernel\\ipkernel.py\", line 240, in start\n",
      "\u001b[1;31m    super().start()\n",
      "\u001b[1;31m  File \"c:\\ProgramData\\anaconda3\\envs\\cdp\\Lib\\site-packages\\ipykernel\\kernelbase.py\", line 583, in start\n",
      "\u001b[1;31m    asyncio.run_coroutine_threadsafe(self.poll_control_queue(), control_loop.asyncio_loop)\n",
      "\u001b[1;31m  File \"c:\\ProgramData\\anaconda3\\envs\\cdp\\Lib\\asyncio\\tasks.py\", line 950, in run_coroutine_threadsafe\n",
      "\u001b[1;31m    loop.call_soon_threadsafe(callback)\n",
      "\u001b[1;31m  File \"c:\\ProgramData\\anaconda3\\envs\\cdp\\Lib\\asyncio\\base_events.py\", line 840, in call_soon_threadsafe\n",
      "\u001b[1;31m    self._check_closed()\n",
      "\u001b[1;31m  File \"c:\\ProgramData\\anaconda3\\envs\\cdp\\Lib\\asyncio\\base_events.py\", line 541, in _check_closed\n",
      "\u001b[1;31m    raise RuntimeError('Event loop is closed')\n",
      "\u001b[1;31mRuntimeError: Event loop is closed\n",
      "\u001b[1;31msys:1: RuntimeWarning: coroutine 'Kernel.poll_control_queue' was never awaited. \n",
      "\u001b[1;31mView Jupyter <a href='command:jupyter.viewOutput'>log</a> for further details."
     ]
    }
   ],
   "source": [
    "df = pluto_ogrio_wgs[[\"LandUse\", \"geometry\"]]\n",
    "\n",
    "layer = PolygonLayer.from_geopandas(\n",
    "    df[[\"LandUse\", \"geometry\"]],\n",
    "    get_fill_color=apply_categorical_cmap(df[\"LandUse\"], cmap=cmap_rgb),\n",
    ")\n",
    "m = Map(layer)\n",
    "m"
   ]
  },
  {
   "cell_type": "code",
   "execution_count": null,
   "metadata": {},
   "outputs": [
    {
     "ename": "",
     "evalue": "",
     "output_type": "error",
     "traceback": [
      "\u001b[1;31mFailed to start the Kernel. \n",
      "\u001b[1;31mTraceback (most recent call last):\n",
      "\u001b[1;31m  File \"<frozen runpy>\", line 198, in _run_module_as_main\n",
      "\u001b[1;31m  File \"<frozen runpy>\", line 88, in _run_code\n",
      "\u001b[1;31m  File \"c:\\ProgramData\\anaconda3\\envs\\cdp\\Lib\\site-packages\\ipykernel_launcher.py\", line 18, in <module>\n",
      "\u001b[1;31m    app.launch_new_instance()\n",
      "\u001b[1;31m  File \"c:\\ProgramData\\anaconda3\\envs\\cdp\\Lib\\site-packages\\traitlets\\config\\application.py\", line 1075, in launch_instance\n",
      "\u001b[1;31m    app.start()\n",
      "\u001b[1;31m  File \"c:\\ProgramData\\anaconda3\\envs\\cdp\\Lib\\site-packages\\ipykernel\\kernelapp.py\", line 726, in start\n",
      "\u001b[1;31m    self.kernel.start()\n",
      "\u001b[1;31m  File \"c:\\ProgramData\\anaconda3\\envs\\cdp\\Lib\\site-packages\\ipykernel\\ipkernel.py\", line 240, in start\n",
      "\u001b[1;31m    super().start()\n",
      "\u001b[1;31m  File \"c:\\ProgramData\\anaconda3\\envs\\cdp\\Lib\\site-packages\\ipykernel\\kernelbase.py\", line 583, in start\n",
      "\u001b[1;31m    asyncio.run_coroutine_threadsafe(self.poll_control_queue(), control_loop.asyncio_loop)\n",
      "\u001b[1;31m  File \"c:\\ProgramData\\anaconda3\\envs\\cdp\\Lib\\asyncio\\tasks.py\", line 950, in run_coroutine_threadsafe\n",
      "\u001b[1;31m    loop.call_soon_threadsafe(callback)\n",
      "\u001b[1;31m  File \"c:\\ProgramData\\anaconda3\\envs\\cdp\\Lib\\asyncio\\base_events.py\", line 840, in call_soon_threadsafe\n",
      "\u001b[1;31m    self._check_closed()\n",
      "\u001b[1;31m  File \"c:\\ProgramData\\anaconda3\\envs\\cdp\\Lib\\asyncio\\base_events.py\", line 541, in _check_closed\n",
      "\u001b[1;31m    raise RuntimeError('Event loop is closed')\n",
      "\u001b[1;31mRuntimeError: Event loop is closed\n",
      "\u001b[1;31msys:1: RuntimeWarning: coroutine 'Kernel.poll_control_queue' was never awaited. \n",
      "\u001b[1;31mView Jupyter <a href='command:jupyter.viewOutput'>log</a> for further details."
     ]
    }
   ],
   "source": [
    "pluto_ogrio_wgs[\"LandUse\"] = pluto_ogrio_wgs[\"LandUse\"].astype(\"category\")"
   ]
  },
  {
   "cell_type": "code",
   "execution_count": null,
   "metadata": {},
   "outputs": [
    {
     "ename": "",
     "evalue": "",
     "output_type": "error",
     "traceback": [
      "\u001b[1;31mFailed to start the Kernel. \n",
      "\u001b[1;31mTraceback (most recent call last):\n",
      "\u001b[1;31m  File \"<frozen runpy>\", line 198, in _run_module_as_main\n",
      "\u001b[1;31m  File \"<frozen runpy>\", line 88, in _run_code\n",
      "\u001b[1;31m  File \"c:\\ProgramData\\anaconda3\\envs\\cdp\\Lib\\site-packages\\ipykernel_launcher.py\", line 18, in <module>\n",
      "\u001b[1;31m    app.launch_new_instance()\n",
      "\u001b[1;31m  File \"c:\\ProgramData\\anaconda3\\envs\\cdp\\Lib\\site-packages\\traitlets\\config\\application.py\", line 1075, in launch_instance\n",
      "\u001b[1;31m    app.start()\n",
      "\u001b[1;31m  File \"c:\\ProgramData\\anaconda3\\envs\\cdp\\Lib\\site-packages\\ipykernel\\kernelapp.py\", line 726, in start\n",
      "\u001b[1;31m    self.kernel.start()\n",
      "\u001b[1;31m  File \"c:\\ProgramData\\anaconda3\\envs\\cdp\\Lib\\site-packages\\ipykernel\\ipkernel.py\", line 240, in start\n",
      "\u001b[1;31m    super().start()\n",
      "\u001b[1;31m  File \"c:\\ProgramData\\anaconda3\\envs\\cdp\\Lib\\site-packages\\ipykernel\\kernelbase.py\", line 583, in start\n",
      "\u001b[1;31m    asyncio.run_coroutine_threadsafe(self.poll_control_queue(), control_loop.asyncio_loop)\n",
      "\u001b[1;31m  File \"c:\\ProgramData\\anaconda3\\envs\\cdp\\Lib\\asyncio\\tasks.py\", line 950, in run_coroutine_threadsafe\n",
      "\u001b[1;31m    loop.call_soon_threadsafe(callback)\n",
      "\u001b[1;31m  File \"c:\\ProgramData\\anaconda3\\envs\\cdp\\Lib\\asyncio\\base_events.py\", line 840, in call_soon_threadsafe\n",
      "\u001b[1;31m    self._check_closed()\n",
      "\u001b[1;31m  File \"c:\\ProgramData\\anaconda3\\envs\\cdp\\Lib\\asyncio\\base_events.py\", line 541, in _check_closed\n",
      "\u001b[1;31m    raise RuntimeError('Event loop is closed')\n",
      "\u001b[1;31mRuntimeError: Event loop is closed\n",
      "\u001b[1;31msys:1: RuntimeWarning: coroutine 'Kernel.poll_control_queue' was never awaited. \n",
      "\u001b[1;31mView Jupyter <a href='command:jupyter.viewOutput'>log</a> for further details."
     ]
    }
   ],
   "source": [
    "df = pluto_ogrio_wgs[[\"LandUse\", \"geometry\"]]\n",
    "\n",
    "layer = PolygonLayer.from_geopandas(\n",
    "    df[[\"LandUse\", \"geometry\"]],\n",
    "    get_fill_color=apply_categorical_cmap(df[\"LandUse\"], cmap=cmap_rgb),\n",
    ")\n",
    "m = Map(layer)\n",
    "m"
   ]
  },
  {
   "cell_type": "code",
   "execution_count": null,
   "metadata": {},
   "outputs": [
    {
     "ename": "",
     "evalue": "",
     "output_type": "error",
     "traceback": [
      "\u001b[1;31mFailed to start the Kernel. \n",
      "\u001b[1;31mTraceback (most recent call last):\n",
      "\u001b[1;31m  File \"<frozen runpy>\", line 198, in _run_module_as_main\n",
      "\u001b[1;31m  File \"<frozen runpy>\", line 88, in _run_code\n",
      "\u001b[1;31m  File \"c:\\ProgramData\\anaconda3\\envs\\cdp\\Lib\\site-packages\\ipykernel_launcher.py\", line 18, in <module>\n",
      "\u001b[1;31m    app.launch_new_instance()\n",
      "\u001b[1;31m  File \"c:\\ProgramData\\anaconda3\\envs\\cdp\\Lib\\site-packages\\traitlets\\config\\application.py\", line 1075, in launch_instance\n",
      "\u001b[1;31m    app.start()\n",
      "\u001b[1;31m  File \"c:\\ProgramData\\anaconda3\\envs\\cdp\\Lib\\site-packages\\ipykernel\\kernelapp.py\", line 726, in start\n",
      "\u001b[1;31m    self.kernel.start()\n",
      "\u001b[1;31m  File \"c:\\ProgramData\\anaconda3\\envs\\cdp\\Lib\\site-packages\\ipykernel\\ipkernel.py\", line 240, in start\n",
      "\u001b[1;31m    super().start()\n",
      "\u001b[1;31m  File \"c:\\ProgramData\\anaconda3\\envs\\cdp\\Lib\\site-packages\\ipykernel\\kernelbase.py\", line 583, in start\n",
      "\u001b[1;31m    asyncio.run_coroutine_threadsafe(self.poll_control_queue(), control_loop.asyncio_loop)\n",
      "\u001b[1;31m  File \"c:\\ProgramData\\anaconda3\\envs\\cdp\\Lib\\asyncio\\tasks.py\", line 950, in run_coroutine_threadsafe\n",
      "\u001b[1;31m    loop.call_soon_threadsafe(callback)\n",
      "\u001b[1;31m  File \"c:\\ProgramData\\anaconda3\\envs\\cdp\\Lib\\asyncio\\base_events.py\", line 840, in call_soon_threadsafe\n",
      "\u001b[1;31m    self._check_closed()\n",
      "\u001b[1;31m  File \"c:\\ProgramData\\anaconda3\\envs\\cdp\\Lib\\asyncio\\base_events.py\", line 541, in _check_closed\n",
      "\u001b[1;31m    raise RuntimeError('Event loop is closed')\n",
      "\u001b[1;31mRuntimeError: Event loop is closed\n",
      "\u001b[1;31msys:1: RuntimeWarning: coroutine 'Kernel.poll_control_queue' was never awaited. \n",
      "\u001b[1;31mView Jupyter <a href='command:jupyter.viewOutput'>log</a> for further details."
     ]
    }
   ],
   "source": [
    "pluto_ogrio_wgs[pluto_ogrio_wgs.geometry.isna()]"
   ]
  },
  {
   "cell_type": "markdown",
   "metadata": {},
   "source": [
    "## visualize a continuous variable\n"
   ]
  },
  {
   "cell_type": "code",
   "execution_count": null,
   "metadata": {},
   "outputs": [
    {
     "ename": "",
     "evalue": "",
     "output_type": "error",
     "traceback": [
      "\u001b[1;31mFailed to start the Kernel. \n",
      "\u001b[1;31mTraceback (most recent call last):\n",
      "\u001b[1;31m  File \"<frozen runpy>\", line 198, in _run_module_as_main\n",
      "\u001b[1;31m  File \"<frozen runpy>\", line 88, in _run_code\n",
      "\u001b[1;31m  File \"c:\\ProgramData\\anaconda3\\envs\\cdp\\Lib\\site-packages\\ipykernel_launcher.py\", line 18, in <module>\n",
      "\u001b[1;31m    app.launch_new_instance()\n",
      "\u001b[1;31m  File \"c:\\ProgramData\\anaconda3\\envs\\cdp\\Lib\\site-packages\\traitlets\\config\\application.py\", line 1075, in launch_instance\n",
      "\u001b[1;31m    app.start()\n",
      "\u001b[1;31m  File \"c:\\ProgramData\\anaconda3\\envs\\cdp\\Lib\\site-packages\\ipykernel\\kernelapp.py\", line 726, in start\n",
      "\u001b[1;31m    self.kernel.start()\n",
      "\u001b[1;31m  File \"c:\\ProgramData\\anaconda3\\envs\\cdp\\Lib\\site-packages\\ipykernel\\ipkernel.py\", line 240, in start\n",
      "\u001b[1;31m    super().start()\n",
      "\u001b[1;31m  File \"c:\\ProgramData\\anaconda3\\envs\\cdp\\Lib\\site-packages\\ipykernel\\kernelbase.py\", line 583, in start\n",
      "\u001b[1;31m    asyncio.run_coroutine_threadsafe(self.poll_control_queue(), control_loop.asyncio_loop)\n",
      "\u001b[1;31m  File \"c:\\ProgramData\\anaconda3\\envs\\cdp\\Lib\\asyncio\\tasks.py\", line 950, in run_coroutine_threadsafe\n",
      "\u001b[1;31m    loop.call_soon_threadsafe(callback)\n",
      "\u001b[1;31m  File \"c:\\ProgramData\\anaconda3\\envs\\cdp\\Lib\\asyncio\\base_events.py\", line 840, in call_soon_threadsafe\n",
      "\u001b[1;31m    self._check_closed()\n",
      "\u001b[1;31m  File \"c:\\ProgramData\\anaconda3\\envs\\cdp\\Lib\\asyncio\\base_events.py\", line 541, in _check_closed\n",
      "\u001b[1;31m    raise RuntimeError('Event loop is closed')\n",
      "\u001b[1;31mRuntimeError: Event loop is closed\n",
      "\u001b[1;31msys:1: RuntimeWarning: coroutine 'Kernel.poll_control_queue' was never awaited. \n",
      "\u001b[1;31mView Jupyter <a href='command:jupyter.viewOutput'>log</a> for further details."
     ]
    }
   ],
   "source": [
    "df = pluto_ogrio_wgs[[\"NumFloors\", \"geometry\"]]\n",
    "\n",
    "normalizer = LogNorm(1, df.NumFloors.max(), clip=True)\n",
    "normalized_floors = normalizer(df.NumFloors)\n",
    "\n",
    "layer = PolygonLayer.from_geopandas(\n",
    "    df[[\"NumFloors\", \"geometry\"]],\n",
    "    get_fill_color=apply_continuous_cmap(normalized_floors, cmap=PuRd_9),\n",
    ")\n",
    "m = Map(layer)\n",
    "m"
   ]
  },
  {
   "cell_type": "markdown",
   "metadata": {},
   "source": [
    "## your turn: can you make the above show in 3d?\n",
    "\n",
    "- see here for some tips: https://developmentseed.org/lonboard/latest/examples/overture-maps/#imports\n"
   ]
  },
  {
   "cell_type": "code",
   "execution_count": null,
   "metadata": {},
   "outputs": [
    {
     "ename": "",
     "evalue": "",
     "output_type": "error",
     "traceback": [
      "\u001b[1;31mFailed to start the Kernel. \n",
      "\u001b[1;31mTraceback (most recent call last):\n",
      "\u001b[1;31m  File \"<frozen runpy>\", line 198, in _run_module_as_main\n",
      "\u001b[1;31m  File \"<frozen runpy>\", line 88, in _run_code\n",
      "\u001b[1;31m  File \"c:\\ProgramData\\anaconda3\\envs\\cdp\\Lib\\site-packages\\ipykernel_launcher.py\", line 18, in <module>\n",
      "\u001b[1;31m    app.launch_new_instance()\n",
      "\u001b[1;31m  File \"c:\\ProgramData\\anaconda3\\envs\\cdp\\Lib\\site-packages\\traitlets\\config\\application.py\", line 1075, in launch_instance\n",
      "\u001b[1;31m    app.start()\n",
      "\u001b[1;31m  File \"c:\\ProgramData\\anaconda3\\envs\\cdp\\Lib\\site-packages\\ipykernel\\kernelapp.py\", line 726, in start\n",
      "\u001b[1;31m    self.kernel.start()\n",
      "\u001b[1;31m  File \"c:\\ProgramData\\anaconda3\\envs\\cdp\\Lib\\site-packages\\ipykernel\\ipkernel.py\", line 240, in start\n",
      "\u001b[1;31m    super().start()\n",
      "\u001b[1;31m  File \"c:\\ProgramData\\anaconda3\\envs\\cdp\\Lib\\site-packages\\ipykernel\\kernelbase.py\", line 583, in start\n",
      "\u001b[1;31m    asyncio.run_coroutine_threadsafe(self.poll_control_queue(), control_loop.asyncio_loop)\n",
      "\u001b[1;31m  File \"c:\\ProgramData\\anaconda3\\envs\\cdp\\Lib\\asyncio\\tasks.py\", line 950, in run_coroutine_threadsafe\n",
      "\u001b[1;31m    loop.call_soon_threadsafe(callback)\n",
      "\u001b[1;31m  File \"c:\\ProgramData\\anaconda3\\envs\\cdp\\Lib\\asyncio\\base_events.py\", line 840, in call_soon_threadsafe\n",
      "\u001b[1;31m    self._check_closed()\n",
      "\u001b[1;31m  File \"c:\\ProgramData\\anaconda3\\envs\\cdp\\Lib\\asyncio\\base_events.py\", line 541, in _check_closed\n",
      "\u001b[1;31m    raise RuntimeError('Event loop is closed')\n",
      "\u001b[1;31mRuntimeError: Event loop is closed\n",
      "\u001b[1;31msys:1: RuntimeWarning: coroutine 'Kernel.poll_control_queue' was never awaited. \n",
      "\u001b[1;31mView Jupyter <a href='command:jupyter.viewOutput'>log</a> for further details."
     ]
    }
   ],
   "source": [
    "df = pluto_ogrio_wgs[[\"NumFloors\", \"geometry\"]]\n",
    "\n",
    "normalizer = LogNorm(1, df.NumFloors.max(), clip=True)\n",
    "normalized_floors = normalizer(df.NumFloors)\n",
    "\n",
    "layer = PolygonLayer.from_geopandas(\n",
    "    # Select only a few attribute columns from the table\n",
    "    df[[\"NumFloors\", \"geometry\"]],\n",
    "    get_fill_color=apply_continuous_cmap(normalized_floors, cmap=PuRd_9),\n",
    "    extruded=True,\n",
    "    get_elevation=pluto_ogrio_wgs[\"NumFloors\"] * 14,\n",
    ")\n",
    "m = Map(layer)\n",
    "m"
   ]
  },
  {
   "cell_type": "markdown",
   "metadata": {},
   "source": [
    "# save data\n"
   ]
  },
  {
   "cell_type": "code",
   "execution_count": null,
   "metadata": {},
   "outputs": [
    {
     "ename": "",
     "evalue": "",
     "output_type": "error",
     "traceback": [
      "\u001b[1;31mFailed to start the Kernel. \n",
      "\u001b[1;31mTraceback (most recent call last):\n",
      "\u001b[1;31m  File \"<frozen runpy>\", line 198, in _run_module_as_main\n",
      "\u001b[1;31m  File \"<frozen runpy>\", line 88, in _run_code\n",
      "\u001b[1;31m  File \"c:\\ProgramData\\anaconda3\\envs\\cdp\\Lib\\site-packages\\ipykernel_launcher.py\", line 18, in <module>\n",
      "\u001b[1;31m    app.launch_new_instance()\n",
      "\u001b[1;31m  File \"c:\\ProgramData\\anaconda3\\envs\\cdp\\Lib\\site-packages\\traitlets\\config\\application.py\", line 1075, in launch_instance\n",
      "\u001b[1;31m    app.start()\n",
      "\u001b[1;31m  File \"c:\\ProgramData\\anaconda3\\envs\\cdp\\Lib\\site-packages\\ipykernel\\kernelapp.py\", line 726, in start\n",
      "\u001b[1;31m    self.kernel.start()\n",
      "\u001b[1;31m  File \"c:\\ProgramData\\anaconda3\\envs\\cdp\\Lib\\site-packages\\ipykernel\\ipkernel.py\", line 240, in start\n",
      "\u001b[1;31m    super().start()\n",
      "\u001b[1;31m  File \"c:\\ProgramData\\anaconda3\\envs\\cdp\\Lib\\site-packages\\ipykernel\\kernelbase.py\", line 583, in start\n",
      "\u001b[1;31m    asyncio.run_coroutine_threadsafe(self.poll_control_queue(), control_loop.asyncio_loop)\n",
      "\u001b[1;31m  File \"c:\\ProgramData\\anaconda3\\envs\\cdp\\Lib\\asyncio\\tasks.py\", line 950, in run_coroutine_threadsafe\n",
      "\u001b[1;31m    loop.call_soon_threadsafe(callback)\n",
      "\u001b[1;31m  File \"c:\\ProgramData\\anaconda3\\envs\\cdp\\Lib\\asyncio\\base_events.py\", line 840, in call_soon_threadsafe\n",
      "\u001b[1;31m    self._check_closed()\n",
      "\u001b[1;31m  File \"c:\\ProgramData\\anaconda3\\envs\\cdp\\Lib\\asyncio\\base_events.py\", line 541, in _check_closed\n",
      "\u001b[1;31m    raise RuntimeError('Event loop is closed')\n",
      "\u001b[1;31mRuntimeError: Event loop is closed\n",
      "\u001b[1;31msys:1: RuntimeWarning: coroutine 'Kernel.poll_control_queue' was never awaited. \n",
      "\u001b[1;31mView Jupyter <a href='command:jupyter.viewOutput'>log</a> for further details."
     ]
    }
   ],
   "source": [
    "# save out as fgb using geopandas\n",
    "pluto_ogrio.to_file(\"C:/Users/cathe/Documents/Github/cdp-mapping-systems/Data/nyc_mappluto_24v1_1_shp/mappluto.fgb\")"
   ]
  },
  {
   "cell_type": "code",
   "execution_count": null,
   "metadata": {},
   "outputs": [
    {
     "ename": "",
     "evalue": "",
     "output_type": "error",
     "traceback": [
      "\u001b[1;31mFailed to start the Kernel. \n",
      "\u001b[1;31mTraceback (most recent call last):\n",
      "\u001b[1;31m  File \"<frozen runpy>\", line 198, in _run_module_as_main\n",
      "\u001b[1;31m  File \"<frozen runpy>\", line 88, in _run_code\n",
      "\u001b[1;31m  File \"c:\\ProgramData\\anaconda3\\envs\\cdp\\Lib\\site-packages\\ipykernel_launcher.py\", line 18, in <module>\n",
      "\u001b[1;31m    app.launch_new_instance()\n",
      "\u001b[1;31m  File \"c:\\ProgramData\\anaconda3\\envs\\cdp\\Lib\\site-packages\\traitlets\\config\\application.py\", line 1075, in launch_instance\n",
      "\u001b[1;31m    app.start()\n",
      "\u001b[1;31m  File \"c:\\ProgramData\\anaconda3\\envs\\cdp\\Lib\\site-packages\\ipykernel\\kernelapp.py\", line 726, in start\n",
      "\u001b[1;31m    self.kernel.start()\n",
      "\u001b[1;31m  File \"c:\\ProgramData\\anaconda3\\envs\\cdp\\Lib\\site-packages\\ipykernel\\ipkernel.py\", line 240, in start\n",
      "\u001b[1;31m    super().start()\n",
      "\u001b[1;31m  File \"c:\\ProgramData\\anaconda3\\envs\\cdp\\Lib\\site-packages\\ipykernel\\kernelbase.py\", line 583, in start\n",
      "\u001b[1;31m    asyncio.run_coroutine_threadsafe(self.poll_control_queue(), control_loop.asyncio_loop)\n",
      "\u001b[1;31m  File \"c:\\ProgramData\\anaconda3\\envs\\cdp\\Lib\\asyncio\\tasks.py\", line 950, in run_coroutine_threadsafe\n",
      "\u001b[1;31m    loop.call_soon_threadsafe(callback)\n",
      "\u001b[1;31m  File \"c:\\ProgramData\\anaconda3\\envs\\cdp\\Lib\\asyncio\\base_events.py\", line 840, in call_soon_threadsafe\n",
      "\u001b[1;31m    self._check_closed()\n",
      "\u001b[1;31m  File \"c:\\ProgramData\\anaconda3\\envs\\cdp\\Lib\\asyncio\\base_events.py\", line 541, in _check_closed\n",
      "\u001b[1;31m    raise RuntimeError('Event loop is closed')\n",
      "\u001b[1;31mRuntimeError: Event loop is closed\n",
      "\u001b[1;31msys:1: RuntimeWarning: coroutine 'Kernel.poll_control_queue' was never awaited. \n",
      "\u001b[1;31mView Jupyter <a href='command:jupyter.viewOutput'>log</a> for further details."
     ]
    }
   ],
   "source": [
    "ogr.write_dataframe(pluto_ogrio, \"../Data/nyc_mappluto_24v1_1_shp/mappluto_ogr.fgb\")"
   ]
  }
 ],
 "metadata": {
  "kernelspec": {
   "display_name": "cdp",
   "language": "python",
   "name": "python3"
  },
  "language_info": {
   "codemirror_mode": {
    "name": "ipython",
    "version": 3
   },
   "file_extension": ".py",
   "mimetype": "text/x-python",
   "name": "python",
   "nbconvert_exporter": "python",
   "pygments_lexer": "ipython3",
   "version": "3.12.4"
  }
 },
 "nbformat": 4,
 "nbformat_minor": 2
}
